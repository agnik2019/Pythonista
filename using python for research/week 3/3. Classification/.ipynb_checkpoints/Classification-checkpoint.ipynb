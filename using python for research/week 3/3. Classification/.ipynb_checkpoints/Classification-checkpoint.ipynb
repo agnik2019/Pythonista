{
 "cells": [
  {
   "cell_type": "markdown",
   "metadata": {},
   "source": [
    "# Finding the Distance Between Two Points"
   ]
  },
  {
   "cell_type": "code",
   "execution_count": 1,
   "metadata": {},
   "outputs": [],
   "source": [
    "import numpy as np\n",
    "\n"
   ]
  },
  {
   "cell_type": "code",
   "execution_count": 2,
   "metadata": {},
   "outputs": [
    {
     "data": {
      "text/plain": [
       "array([3, 3])"
      ]
     },
     "execution_count": 2,
     "metadata": {},
     "output_type": "execute_result"
    }
   ],
   "source": [
    "p1 = np.array([1,1])\n",
    "p2 = np.array([4,4])\n",
    "\n",
    "p2 - p1\n"
   ]
  },
  {
   "cell_type": "code",
   "execution_count": 3,
   "metadata": {},
   "outputs": [
    {
     "data": {
      "text/plain": [
       "array([9, 9])"
      ]
     },
     "execution_count": 3,
     "metadata": {},
     "output_type": "execute_result"
    }
   ],
   "source": [
    "np.power(p2-p1, 2)\n"
   ]
  },
  {
   "cell_type": "code",
   "execution_count": 4,
   "metadata": {},
   "outputs": [
    {
     "data": {
      "text/plain": [
       "18"
      ]
     },
     "execution_count": 4,
     "metadata": {},
     "output_type": "execute_result"
    }
   ],
   "source": [
    "np.sum(np.power(p2-p1, 2))\n"
   ]
  },
  {
   "cell_type": "code",
   "execution_count": 5,
   "metadata": {},
   "outputs": [
    {
     "data": {
      "text/plain": [
       "4.242640687119285"
      ]
     },
     "execution_count": 5,
     "metadata": {},
     "output_type": "execute_result"
    }
   ],
   "source": [
    "np.sqrt(np.sum(np.power(p2-p1, 2)))\n"
   ]
  },
  {
   "cell_type": "code",
   "execution_count": 6,
   "metadata": {},
   "outputs": [
    {
     "data": {
      "text/plain": [
       "4.242640687119285"
      ]
     },
     "execution_count": 6,
     "metadata": {},
     "output_type": "execute_result"
    }
   ],
   "source": [
    "def distance(p1, p2):\n",
    "    '''\n",
    "    Find the distance between points \n",
    "    p1 and p2\n",
    "    '''\n",
    "    return np.sqrt(np.sum(np.power(p2-p1, 2)))\n",
    "\n",
    "p1 = np.array([1,1])\n",
    "p2 = np.array([4,4])\n",
    "\n",
    "distance(p1, p2)"
   ]
  },
  {
   "cell_type": "markdown",
   "metadata": {},
   "source": [
    "#### Introduction to kNN Classification: Question 1\n",
    "\n",
    "How does the k-Nearest Neighbors classifier classify observations?\n",
    "\n",
    "- *According to the most common class among the nearest k neighbors**\n",
    "- According to the mean class among the nearest k neighbors\n",
    "\n",
    "#### Finding Distance: Question 1\n",
    "\n",
    "How is the distance measure we use (as in Video 3.3.2) defined between points (a1, b1) and (a2, b2) ?\n",
    "- $\\ |a_1-a_2| + |b_1-b_2|$\n",
    "\n",
    "- $\\ (a_1-a_2)^2 + (b_1-b_2)^2$\n",
    "\n",
    "- $\\ \\sqrt{(a_1-a_2)^2 + (b_1-b_2)^2}$ [X]\n",
    "\n",
    "- $\\ \\sqrt{(a_1-a_2)^2 - (b_1-b_2)^2}$"
   ]
  },
  {
   "cell_type": "markdown",
   "metadata": {},
   "source": [
    "# Majority Vote"
   ]
  },
  {
   "cell_type": "code",
   "execution_count": null,
   "metadata": {},
   "outputs": [],
   "source": [
    "def magority_vote(votes):\n",
    "    '''\n",
    "    Inspect vote counts. The key is the number and the \n",
    "    values are the number of each number in key occured.\n",
    "    '''\n",
    "    vote_counts = {}\n",
    "    for vote in votes:\n",
    "        if vote in vote_counts:\n",
    "            vote_counts[vote] += 1\n",
    "        else:\n",
    "            vote_counts[vote] = 1\n",
    "    return vote_counts\n",
    "\n",
    "votes = [1,2,3,1,2,3,1,2,3,3,3,3]\n",
    "vote_counts = magority_vote(votes)\n",
    "vote_counts\n",
    "\n",
    "max(vote_counts)\n",
    "\n",
    "max(vote_counts.keys())\n",
    "\n",
    "max(vote_counts.values())\n",
    "\n",
    "max_counts = max(vote_counts.values())\n",
    "max_counts\n",
    "\n",
    "winners = []\n",
    "max(vote_counts.values())\n",
    "for vote, count in vote_counts.items():\n",
    "    print (vote, count)\n",
    "\n",
    "winners = []\n",
    "max_count = max(vote_counts.values())\n",
    "for vote, count in vote_counts.items():\n",
    "    if count == max_count:\n",
    "        winners.append(vote)\n",
    "winners\n",
    "\n",
    "import random\n",
    "\n",
    "def magority_vote(votes):\n",
    "    '''\n",
    "    Finds the winner. If there is a tie among winners, the \n",
    "    program choose radomly\n",
    "    '''\n",
    "    vote_counts = {}\n",
    "    for vote in votes:\n",
    "        if vote in vote_counts:\n",
    "            vote_counts[vote] += 1\n",
    "        else:\n",
    "            vote_counts[vote] = 1\n",
    "            \n",
    "    winners = []\n",
    "    max_count = max(vote_counts.values())\n",
    "    for vote, count in vote_counts.items():\n",
    "        if count == max_count:\n",
    "            winners.append(vote)\n",
    "            \n",
    "    return random.choice(winners)\n",
    "\n",
    "votes = [1,2,3,1,2,3,1,2,3,3,3,3]\n",
    "winner = magority_vote(votes)\n",
    "winner\n",
    "\n",
    "votes = [1,2,3,1,2,3,1,2,3,3,3,3, 2, 2, 2]\n",
    "winner = magority_vote(votes)\n",
    "winner\n",
    "\n",
    "votes = [1,2,3,1,2,3,1,2,3,3,3,3, 2, 2, 2]\n",
    "winner = magority_vote(votes)\n",
    "winner\n",
    "\n",
    "import scipy.stats as ss\n",
    "\n",
    "def majority_votes_short(votes):\n",
    "    '''\n",
    "    Return the most common element in votes\n",
    "    '''\n",
    "    mode = ss.mstats.mode(votes)\n",
    "    return mode\n",
    "\n",
    "votes = [1,2,3,1,2,3,1,2,3,3,3,3]\n",
    "winner = majority_votes_short(votes)\n",
    "winner\n",
    "\n",
    "votes = [1,2,3,1,2,3,1,2,3,3,3,3,2,2,2]\n",
    "winner = majority_votes_short(votes)\n",
    "winner"
   ]
  }
 ],
 "metadata": {
  "kernelspec": {
   "display_name": "Python 3",
   "language": "python",
   "name": "python3"
  },
  "language_info": {
   "codemirror_mode": {
    "name": "ipython",
    "version": 3
   },
   "file_extension": ".py",
   "mimetype": "text/x-python",
   "name": "python",
   "nbconvert_exporter": "python",
   "pygments_lexer": "ipython3",
   "version": "3.8.5"
  }
 },
 "nbformat": 4,
 "nbformat_minor": 4
}
