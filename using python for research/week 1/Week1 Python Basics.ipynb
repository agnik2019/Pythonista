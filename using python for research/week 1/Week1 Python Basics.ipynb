{
 "cells": [
  {
   "cell_type": "markdown",
   "metadata": {},
   "source": [
    "# Lambda function"
   ]
  },
  {
   "cell_type": "code",
   "execution_count": 1,
   "metadata": {},
   "outputs": [
    {
     "data": {
      "text/plain": [
       "36"
      ]
     },
     "execution_count": 1,
     "metadata": {},
     "output_type": "execute_result"
    }
   ],
   "source": [
    "square = lambda x: x*x\n",
    "square(6)"
   ]
  },
  {
   "cell_type": "markdown",
   "metadata": {},
   "source": [
    "# List Comprehension"
   ]
  },
  {
   "cell_type": "code",
   "execution_count": 3,
   "metadata": {},
   "outputs": [],
   "source": [
    "list1 = [1,7,12,11,22]\n",
    "list2 = [i for i in list1 if i>8]"
   ]
  },
  {
   "cell_type": "code",
   "execution_count": 4,
   "metadata": {},
   "outputs": [
    {
     "data": {
      "text/plain": [
       "[12, 11, 22]"
      ]
     },
     "execution_count": 4,
     "metadata": {},
     "output_type": "execute_result"
    }
   ],
   "source": [
    "list2"
   ]
  },
  {
   "cell_type": "markdown",
   "metadata": {},
   "source": [
    "# Bin Method"
   ]
  },
  {
   "cell_type": "code",
   "execution_count": 54,
   "metadata": {},
   "outputs": [
    {
     "name": "stdout",
     "output_type": "stream",
     "text": [
      "<class 'str'>\n",
      "apple,and,banana,and,mango\n"
     ]
    }
   ],
   "source": [
    "#create a string from iterable object\n",
    "l = [\"apple\",\"banana\",\"mango\"]\n",
    "j = \",and,\".join(l)\n",
    "print(type(j))\n",
    "print(j)"
   ]
  },
  {
   "cell_type": "markdown",
   "metadata": {},
   "source": [
    "# Enumerate\n",
    "The enumerate() method adds counter to an iterable and returns it (the enumerate object)"
   ]
  },
  {
   "cell_type": "code",
   "execution_count": 15,
   "metadata": {},
   "outputs": [],
   "source": [
    "l = [\"apple\",\"banana\",\"mango\"]\n",
    "enumeratelist = enumerate(l)"
   ]
  },
  {
   "cell_type": "code",
   "execution_count": 16,
   "metadata": {},
   "outputs": [
    {
     "data": {
      "text/plain": [
       "enumerate"
      ]
     },
     "execution_count": 16,
     "metadata": {},
     "output_type": "execute_result"
    }
   ],
   "source": [
    "type(enumeratelist)"
   ]
  },
  {
   "cell_type": "code",
   "execution_count": 17,
   "metadata": {},
   "outputs": [
    {
     "data": {
      "text/plain": [
       "[(0, 'apple'), (1, 'banana'), (2, 'mango')]"
      ]
     },
     "execution_count": 17,
     "metadata": {},
     "output_type": "execute_result"
    }
   ],
   "source": [
    "list(enumeratelist)"
   ]
  },
  {
   "cell_type": "code",
   "execution_count": 23,
   "metadata": {},
   "outputs": [],
   "source": [
    "enumeratelist2 = enumerate(l,10)"
   ]
  },
  {
   "cell_type": "code",
   "execution_count": 24,
   "metadata": {},
   "outputs": [
    {
     "data": {
      "text/plain": [
       "[(10, 'apple'), (11, 'banana'), (12, 'mango')]"
      ]
     },
     "execution_count": 24,
     "metadata": {},
     "output_type": "execute_result"
    }
   ],
   "source": [
    "list(enumeratelist2)"
   ]
  },
  {
   "cell_type": "code",
   "execution_count": 25,
   "metadata": {},
   "outputs": [
    {
     "name": "stdout",
     "output_type": "stream",
     "text": [
      "(0, 'apple')\n",
      "(1, 'banana')\n",
      "(2, 'mango')\n"
     ]
    }
   ],
   "source": [
    "for i in enumerate(l):\n",
    "    print(i)"
   ]
  },
  {
   "cell_type": "code",
   "execution_count": 26,
   "metadata": {},
   "outputs": [
    {
     "name": "stdout",
     "output_type": "stream",
     "text": [
      "10 apple\n",
      "11 banana\n",
      "12 mango\n"
     ]
    }
   ],
   "source": [
    "for count,item in enumerate(l,10):\n",
    "    print(count, item)"
   ]
  },
  {
   "cell_type": "code",
   "execution_count": 27,
   "metadata": {},
   "outputs": [
    {
     "name": "stdout",
     "output_type": "stream",
     "text": [
      "(10, 'apple')\n",
      "(11, 'banana')\n",
      "(12, 'mango')\n"
     ]
    }
   ],
   "source": [
    "for item in enumerate(l,10):\n",
    "    print(item)"
   ]
  },
  {
   "cell_type": "markdown",
   "metadata": {},
   "source": [
    "# Range\n",
    "Range are immutable sequence of integers, and they are commonly used in for loop"
   ]
  },
  {
   "cell_type": "code",
   "execution_count": 28,
   "metadata": {},
   "outputs": [
    {
     "data": {
      "text/plain": [
       "range(0, 5)"
      ]
     },
     "execution_count": 28,
     "metadata": {},
     "output_type": "execute_result"
    }
   ],
   "source": [
    "range(5)"
   ]
  },
  {
   "cell_type": "code",
   "execution_count": 29,
   "metadata": {},
   "outputs": [
    {
     "data": {
      "text/plain": [
       "[0, 1, 2, 3, 4]"
      ]
     },
     "execution_count": 29,
     "metadata": {},
     "output_type": "execute_result"
    }
   ],
   "source": [
    "list(range(5))"
   ]
  },
  {
   "cell_type": "code",
   "execution_count": 30,
   "metadata": {},
   "outputs": [
    {
     "data": {
      "text/plain": [
       "[1, 4, 7, 10]"
      ]
     },
     "execution_count": 30,
     "metadata": {},
     "output_type": "execute_result"
    }
   ],
   "source": [
    "list(range(1,13,3))"
   ]
  },
  {
   "cell_type": "markdown",
   "metadata": {},
   "source": [
    "# Strings\n",
    "Strings are immutable sequence of characters"
   ]
  },
  {
   "cell_type": "code",
   "execution_count": 31,
   "metadata": {},
   "outputs": [
    {
     "data": {
      "text/plain": [
       "'pyhtonpyhtonpyhton'"
      ]
     },
     "execution_count": 31,
     "metadata": {},
     "output_type": "execute_result"
    }
   ],
   "source": [
    "s = \"pyhton\"\n",
    "3*s"
   ]
  },
  {
   "cell_type": "code",
   "execution_count": 32,
   "metadata": {},
   "outputs": [
    {
     "data": {
      "text/plain": [
       "str"
      ]
     },
     "execution_count": 32,
     "metadata": {},
     "output_type": "execute_result"
    }
   ],
   "source": [
    "type(s)"
   ]
  },
  {
   "cell_type": "code",
   "execution_count": 33,
   "metadata": {},
   "outputs": [
    {
     "data": {
      "text/plain": [
       "['__add__',\n",
       " '__class__',\n",
       " '__contains__',\n",
       " '__delattr__',\n",
       " '__dir__',\n",
       " '__doc__',\n",
       " '__eq__',\n",
       " '__format__',\n",
       " '__ge__',\n",
       " '__getattribute__',\n",
       " '__getitem__',\n",
       " '__getnewargs__',\n",
       " '__gt__',\n",
       " '__hash__',\n",
       " '__init__',\n",
       " '__init_subclass__',\n",
       " '__iter__',\n",
       " '__le__',\n",
       " '__len__',\n",
       " '__lt__',\n",
       " '__mod__',\n",
       " '__mul__',\n",
       " '__ne__',\n",
       " '__new__',\n",
       " '__reduce__',\n",
       " '__reduce_ex__',\n",
       " '__repr__',\n",
       " '__rmod__',\n",
       " '__rmul__',\n",
       " '__setattr__',\n",
       " '__sizeof__',\n",
       " '__str__',\n",
       " '__subclasshook__',\n",
       " 'capitalize',\n",
       " 'casefold',\n",
       " 'center',\n",
       " 'count',\n",
       " 'encode',\n",
       " 'endswith',\n",
       " 'expandtabs',\n",
       " 'find',\n",
       " 'format',\n",
       " 'format_map',\n",
       " 'index',\n",
       " 'isalnum',\n",
       " 'isalpha',\n",
       " 'isascii',\n",
       " 'isdecimal',\n",
       " 'isdigit',\n",
       " 'isidentifier',\n",
       " 'islower',\n",
       " 'isnumeric',\n",
       " 'isprintable',\n",
       " 'isspace',\n",
       " 'istitle',\n",
       " 'isupper',\n",
       " 'join',\n",
       " 'ljust',\n",
       " 'lower',\n",
       " 'lstrip',\n",
       " 'maketrans',\n",
       " 'partition',\n",
       " 'replace',\n",
       " 'rfind',\n",
       " 'rindex',\n",
       " 'rjust',\n",
       " 'rpartition',\n",
       " 'rsplit',\n",
       " 'rstrip',\n",
       " 'split',\n",
       " 'splitlines',\n",
       " 'startswith',\n",
       " 'strip',\n",
       " 'swapcase',\n",
       " 'title',\n",
       " 'translate',\n",
       " 'upper',\n",
       " 'zfill']"
      ]
     },
     "execution_count": 33,
     "metadata": {},
     "output_type": "execute_result"
    }
   ],
   "source": [
    "dir(str)"
   ]
  },
  {
   "cell_type": "code",
   "execution_count": 34,
   "metadata": {},
   "outputs": [],
   "source": [
    "str.replace?"
   ]
  },
  {
   "cell_type": "code",
   "execution_count": 36,
   "metadata": {},
   "outputs": [
    {
     "data": {
      "text/plain": [
       "'Turjo'"
      ]
     },
     "execution_count": 36,
     "metadata": {},
     "output_type": "execute_result"
    }
   ],
   "source": [
    "s = \"turjo\"\n",
    "s.replace(\"t\",\"T\")"
   ]
  },
  {
   "cell_type": "code",
   "execution_count": 37,
   "metadata": {},
   "outputs": [
    {
     "data": {
      "text/plain": [
       "'turjo'"
      ]
     },
     "execution_count": 37,
     "metadata": {},
     "output_type": "execute_result"
    }
   ],
   "source": [
    "s"
   ]
  },
  {
   "cell_type": "code",
   "execution_count": 38,
   "metadata": {},
   "outputs": [],
   "source": [
    "name = \"Agnik Saha\"\n",
    "names = name.split(\" \")"
   ]
  },
  {
   "cell_type": "code",
   "execution_count": 39,
   "metadata": {},
   "outputs": [
    {
     "data": {
      "text/plain": [
       "['Agnik', 'Saha']"
      ]
     },
     "execution_count": 39,
     "metadata": {},
     "output_type": "execute_result"
    }
   ],
   "source": [
    "names"
   ]
  },
  {
   "cell_type": "code",
   "execution_count": 40,
   "metadata": {},
   "outputs": [
    {
     "data": {
      "text/plain": [
       "list"
      ]
     },
     "execution_count": 40,
     "metadata": {},
     "output_type": "execute_result"
    }
   ],
   "source": [
    "type(names)"
   ]
  },
  {
   "cell_type": "code",
   "execution_count": 41,
   "metadata": {},
   "outputs": [
    {
     "data": {
      "text/plain": [
       "'AGNIK'"
      ]
     },
     "execution_count": 41,
     "metadata": {},
     "output_type": "execute_result"
    }
   ],
   "source": [
    "names[0].upper()"
   ]
  },
  {
   "cell_type": "code",
   "execution_count": 43,
   "metadata": {},
   "outputs": [],
   "source": [
    "names[0] = names[0].upper()"
   ]
  },
  {
   "cell_type": "code",
   "execution_count": 44,
   "metadata": {},
   "outputs": [
    {
     "data": {
      "text/plain": [
       "['AGNIK', 'Saha']"
      ]
     },
     "execution_count": 44,
     "metadata": {},
     "output_type": "execute_result"
    }
   ],
   "source": [
    "names"
   ]
  },
  {
   "cell_type": "markdown",
   "metadata": {},
   "source": [
    "# Sets\n",
    "- set(mutable)\n",
    "- frozen set(immutable)"
   ]
  },
  {
   "cell_type": "code",
   "execution_count": 48,
   "metadata": {},
   "outputs": [
    {
     "data": {
      "text/plain": [
       "{1, 3, 5, 7, 9}"
      ]
     },
     "execution_count": 48,
     "metadata": {},
     "output_type": "execute_result"
    }
   ],
   "source": [
    "ids = set(range(1,10,2))\n",
    "ids"
   ]
  },
  {
   "cell_type": "code",
   "execution_count": 49,
   "metadata": {},
   "outputs": [],
   "source": [
    "ids.add(2)"
   ]
  },
  {
   "cell_type": "code",
   "execution_count": 50,
   "metadata": {},
   "outputs": [
    {
     "data": {
      "text/plain": [
       "{1, 2, 3, 5, 7, 9}"
      ]
     },
     "execution_count": 50,
     "metadata": {},
     "output_type": "execute_result"
    }
   ],
   "source": [
    "ids"
   ]
  },
  {
   "cell_type": "code",
   "execution_count": 52,
   "metadata": {},
   "outputs": [],
   "source": [
    "males = set([1,4,6,8,10])\n",
    "females = males - ids"
   ]
  },
  {
   "cell_type": "code",
   "execution_count": 53,
   "metadata": {},
   "outputs": [
    {
     "data": {
      "text/plain": [
       "{4, 6, 8, 10}"
      ]
     },
     "execution_count": 53,
     "metadata": {},
     "output_type": "execute_result"
    }
   ],
   "source": [
    "females"
   ]
  },
  {
   "cell_type": "markdown",
   "metadata": {},
   "source": [
    "# Dictionary"
   ]
  },
  {
   "cell_type": "code",
   "execution_count": 55,
   "metadata": {},
   "outputs": [],
   "source": [
    "ages = {\"Agnik\": 22, \"Saldina\":25, \"Tim\": 31, \"Sam\": 26}"
   ]
  },
  {
   "cell_type": "code",
   "execution_count": 56,
   "metadata": {},
   "outputs": [],
   "source": [
    "names = ages.keys()"
   ]
  },
  {
   "cell_type": "code",
   "execution_count": 57,
   "metadata": {},
   "outputs": [
    {
     "data": {
      "text/plain": [
       "dict_keys(['Agnik', 'Saldina', 'Tim', 'Sam'])"
      ]
     },
     "execution_count": 57,
     "metadata": {},
     "output_type": "execute_result"
    }
   ],
   "source": [
    "names"
   ]
  },
  {
   "cell_type": "code",
   "execution_count": 58,
   "metadata": {},
   "outputs": [
    {
     "name": "stdout",
     "output_type": "stream",
     "text": [
      "['Agnik', 'Saldina', 'Tim', 'Sam']\n"
     ]
    }
   ],
   "source": [
    "namelist = list()\n",
    "for i in names:\n",
    "    namelist.append(i)\n",
    "    \n",
    "print(namelist)"
   ]
  },
  {
   "cell_type": "code",
   "execution_count": 60,
   "metadata": {},
   "outputs": [
    {
     "name": "stdout",
     "output_type": "stream",
     "text": [
      "[22, 25, 31, 26]\n"
     ]
    }
   ],
   "source": [
    "agelist = list()\n",
    "for i in ages.values():\n",
    "    agelist.append(i)\n",
    "    \n",
    "print(agelist)"
   ]
  },
  {
   "cell_type": "code",
   "execution_count": 62,
   "metadata": {},
   "outputs": [
    {
     "data": {
      "text/plain": [
       "True"
      ]
     },
     "execution_count": 62,
     "metadata": {},
     "output_type": "execute_result"
    }
   ],
   "source": [
    "\"Sam\" in ages  #Object Membership"
   ]
  },
  {
   "cell_type": "markdown",
   "metadata": {},
   "source": [
    "# Manipulating Objects"
   ]
  },
  {
   "cell_type": "code",
   "execution_count": 63,
   "metadata": {},
   "outputs": [
    {
     "name": "stdout",
     "output_type": "stream",
     "text": [
      "True\n"
     ]
    }
   ],
   "source": [
    "L = [1,2,3]\n",
    "M = [1,2,3]\n",
    "print(L == M)"
   ]
  },
  {
   "cell_type": "code",
   "execution_count": 64,
   "metadata": {},
   "outputs": [
    {
     "data": {
      "text/plain": [
       "False"
      ]
     },
     "execution_count": 64,
     "metadata": {},
     "output_type": "execute_result"
    }
   ],
   "source": [
    "L is M"
   ]
  },
  {
   "cell_type": "code",
   "execution_count": 65,
   "metadata": {},
   "outputs": [
    {
     "data": {
      "text/plain": [
       "140542634863168"
      ]
     },
     "execution_count": 65,
     "metadata": {},
     "output_type": "execute_result"
    }
   ],
   "source": [
    "id(L)"
   ]
  },
  {
   "cell_type": "code",
   "execution_count": 66,
   "metadata": {},
   "outputs": [
    {
     "data": {
      "text/plain": [
       "140542634864320"
      ]
     },
     "execution_count": 66,
     "metadata": {},
     "output_type": "execute_result"
    }
   ],
   "source": [
    "id(M)"
   ]
  },
  {
   "cell_type": "code",
   "execution_count": 68,
   "metadata": {},
   "outputs": [
    {
     "name": "stdout",
     "output_type": "stream",
     "text": [
      "False\n"
     ]
    }
   ],
   "source": [
    "L = [1,2,3]\n",
    "M = list(L)\n",
    "print(M is L)"
   ]
  },
  {
   "cell_type": "code",
   "execution_count": 69,
   "metadata": {},
   "outputs": [
    {
     "name": "stdout",
     "output_type": "stream",
     "text": [
      "[1, [2]]\n",
      "[1, [2]]\n"
     ]
    }
   ],
   "source": [
    "# deep and shallow copy\n",
    "import copy\n",
    "x = [1,[2]]\n",
    "y = copy.copy(x)\n",
    "z = copy.deepcopy(x)\n",
    "print(y)\n",
    "print(z)"
   ]
  },
  {
   "cell_type": "code",
   "execution_count": 70,
   "metadata": {},
   "outputs": [
    {
     "data": {
      "text/plain": [
       "False"
      ]
     },
     "execution_count": 70,
     "metadata": {},
     "output_type": "execute_result"
    }
   ],
   "source": [
    "y is z"
   ]
  },
  {
   "cell_type": "markdown",
   "metadata": {},
   "source": [
    "## Part 1 - Objects and Methods\n",
    "\n",
    "### CC 1.1.1: Python Basics\n",
    "\n",
    "In these Comprehension Checks, we will review a range of Python topics, and do not expect you to know the answer without any aids.  As you answer these questions, feel free to use Python and the internet interactively to get the right answer!\n",
    "\n",
    "#### Python Basics: Question 1\n",
    "\n",
    "Python has two operating modes. Which are they?\n",
    "\n",
    "- Interactive mode\n",
    "- Standard mode\n",
    "- **Both of the above**\n",
    "\n",
    "#### Python Basics: Question 2\n",
    "\n",
    "Which version of Python will we focus on in this course?\n",
    "\n",
    "- Python 2\n",
    "- **Python 3**\n",
    "- Spyder\n",
    "- Jupyter\n",
    "\n",
    "#### Python Basics: Question 3\n",
    "\n",
    "What does it mean for Python 3 to not be backwards-compatible with Python 2?\n",
    "\n",
    "- Valid Python 2 code is not guaranteed to work in Python 3.\n",
    "- Valid Python 3 code is not guaranteed to work in Python 2.\n",
    "- **Both of the above**\n",
    "- Neither of the above\n",
    "\n",
    "### CC 1.1.2: Objects\n",
    "\n",
    "In these Comprehension Checks, we will review a range of Python topics, and do not expect you to know the answer without any aids.  As you answer these questions, feel free to use Python and the internet interactively to get the right answer!\n",
    "\n",
    "#### Objects: Question 1\n",
    "\n",
    "-What does it mean for an object to be immutable?\n",
    "- Its contents cannot be modified by the programmer.\n",
    "- **Its contents cannot be modified by the programmer after the object has been created.**\n",
    "\n",
    "#### Objects: Question 2\n",
    "\n",
    "Consider the following line of code:\n",
    "```\n",
    "x = 4\n",
    "```\n",
    "- In this assignment, what does the number 4 represent?\n",
    "- The object type.\n",
    "- **The object value.**\n",
    "- The object identity.\n",
    "\n",
    "#### Objects: Question 3\n",
    "\n",
    "What is the difference between methods and data attributes of objects?\n",
    "\n",
    "- **Methods are functions associated with objects, whereas data attributes are data associated with objects.**\n",
    "- Both methods and data attributes are functions associated with objects, but only data attributes process data.\n",
    "\n",
    "### CC 1.1.3: Modules and Methods\n",
    "\n",
    "In these Comprehension Checks, we will review a range of Python topics, and do not expect you to know the answer without any aids.  As you answer these questions, feel free to use Python and the internet interactively to get the right answer!\n",
    "\n",
    "#### Modules and Methods: Question 1\n",
    "\n",
    "Suppose that ```math.sqrt``` and ```numpy.sqrt``` had identical behavior. Are they the same function?\n",
    "\n",
    "- Yes. If they behave identically, they are the same function.\n",
    "- **No. Because they belong to different namespaces, Python treats them separately, regardless of their behavior.**\n",
    "\n",
    "#### Modules and Methods: Question 2\n",
    "\n",
    "When using the ```import``` statement, which of the following does NOT occur?\n",
    "\n",
    "- **Python downloads the specified library if it is not yet available.**\n",
    "- Python creates a new namespace for all the objects which are defined in the new module.\n",
    "- Python executes the code of the module and it runs it within a newly created namespace.\n",
    "- Python creates a name that references its namespace.\n",
    "\n",
    "#### Modules and Methods: Question 3\n",
    "\n",
    "What is the difference between ```help()``` and ```dir()``` ?\n",
    "\n",
    "- ```help()``` is defined for types or objects, whereas ```dir()``` is defined for methods.\n",
    "- **```help()``` is defined for methods, whereas ```dir()``` is defined for types or objects.**\n",
    "\n",
    "### CC 1.1.4: Numbers and Basic Calculations\n",
    "\n",
    "In these Comprehension Checks, we will review a range of Python topics, and do not expect you to know the answer without any aids.  As you answer these questions, feel free to use Python and the internet interactively to get the right answer!\n",
    "\n",
    "#### Numbers and Basic Calculations: Question 1\n",
    "\n",
    "Consider the following code in the interactive mode:\n",
    "\n",
    "```\n",
    "2+1\n",
    "_*2\n",
    "_**2\n",
    "```\n",
    "\n",
    "What is the result? \n",
    "\n",
    "**36**\n",
    "\n",
    "#### Numbers and Basic Calculations: Question 2\n",
    "\n",
    "n factorial is defined as the product of all integers . Additionally, by definition, $\\ 0! \\equiv 1$. What is 4 factorial?\n",
    "\n",
    "**24**\n",
    "\n",
    "\n",
    "### CC 1.1.5: Random Choice\n",
    "\n",
    "In these Comprehension Checks, we will review a range of Python topics, and do not expect you to know the answer without any aids.  As you answer these questions, feel free to use Python and the internet interactively to get the right answer!\n",
    "\n",
    "#### Random Choice: Question 1\n",
    "\n",
    "True or false: ```random.choice``` will not work on immutable types.\n",
    "\n",
    "- True: immutable types cannot be altered, so you may not choose one value at random.\n",
    "- **False: ```random.choice``` only requires that the object has several values regardless of mutability.**\n",
    "\n",
    "\n",
    "### CC 1.1.6: Expressions and Booleans\n",
    "\n",
    "In these Comprehension Checks, we will review a range of Python topics, and do not expect you to know the answer without any aids.  As you answer these questions, feel free to use Python and the internet interactively to get the right answer!\n",
    "\n",
    "#### Expressions and Booleans: Question 1\n",
    "\n",
    "Consider the expression ```True and not False is True```\n",
    "\n",
    "What will this return?\n",
    "\n",
    "- **True**\n",
    "- False\n",
    "- Nothing.\n",
    "- This code contains an error.\n",
    "\n",
    "#### Expressions and Booleans: Question 2\n",
    "\n",
    "What is the difference between == and ```is```?\n",
    "\n",
    "\n",
    "- == tests whether objects have the same identity, whereas is tests whether objects have the same value.\n",
    "- **== tests whether objects have the same value, whereas is tests whether objects have the same identity.**\n",
    "\n",
    "## Part 2: Sequence Objects\n",
    "\n",
    "### CC 1.2.1: Sequences\n",
    "\n",
    "In these Comprehension Checks, we will review a range of Python topics, and do not expect you to know the answer without any aids.  As you answer these questions, feel free to use Python and the internet interactively to get the right answer!\n",
    "\n",
    "#### Sequences: Question 1\n",
    "\n",
    "Consider the following tuple and index ```(1,2,3)[-0]```. What will this return?\n",
    "- 0\n",
    "- **1**\n",
    "- 3\n",
    "- This code contains an error.\n",
    "\n",
    "#### Sequences: Question 2\n",
    "\n",
    "Consider the following tuple and index ```(1,2,3)[-0:0]```. What will this return?\n",
    "- (0)\n",
    "- (1)\n",
    "- **()**\n",
    "- This code contains an error.\n",
    "\n",
    "### CC 1.2.2: Lists\n",
    "\n",
    "In these Comprehension Checks, we will review a range of Python topics, and do not expect you to know the answer without any aids.  As you answer these questions, feel free to use Python and the internet interactively to get the right answer!\n",
    "\n",
    "#### Lists: Question 1\n",
    "\n",
    "Consider again ```x=[1,2,3]```. Which index corresponds to 2 in x?\n",
    "\n",
    "Enter your numeric answer here.\n",
    "\n",
    "**1**\n",
    "\n",
    "#### Lists: Question 2\n",
    "\n",
    "Consider a list ```x=[1,2,3]```. Enter the code below for how you would use the append method to add the number 4 to the end of list x.\n",
    "\n",
    "Enter your code here.\n",
    "\n",
    "**```x.append(4)```**\n",
    " \n",
    "\n",
    "#### Lists: Question 3\n",
    "\n",
    "Why do list methods such as reverse and sort return nothing?\n",
    "\n",
    "- This is false: they return reversed or sorted lists.\n",
    "- **They are in-place methods, meaning they alter the content of the original list**\n",
    "\n",
    "### CC 1.2.3: Tuples\n",
    "\n",
    "In these Comprehension Checks, we will review a range of Python topics, and do not expect you to know the answer without any aids.  As you answer these questions, feel free to use Python and the internet interactively to get the right answer!\n",
    "\n",
    "#### Tuples: Question 1\n",
    "\n",
    "Consider the tuple ```x=(1,2,3)```\n",
    "\n",
    "How could you add the integer 4 to the end of the tuple?\n",
    "\n",
    "- **This is impossible: tuples are immutable, so they can't be edited after they’ve been created.**\n",
    "- ```x[4] = 4```\n",
    "- ```x(4) = 4```\n",
    "- ```x.append(4)```\n",
    "\n",
    "#### Tuples: Question 2\n",
    "\n",
    "Consider ```x=(1,2,3)```. Use the count method to count the number of 3 s in x .\n",
    "\n",
    "Enter your code here.\n",
    "\n",
    "**```x.count(3)```**\n",
    "\n",
    "#### Tuples: Question 3\n",
    "\n",
    "Consider again x=(1,2,3) . Sum the numbers in x using a single function.\n",
    "\n",
    "Enter your code here.\n",
    "\n",
    "**```sum(x)```**\n",
    "\n",
    "#### Tuples: Question 4\n",
    "\n",
    "Which of the following prints type tuple ?\n",
    "\n",
    "- ```type(2)```\n",
    "- ```type((2))```\n",
    "- ```type(2,)```\n",
    "- **```type((2,))```**\n",
    "\n",
    "### CC 1.2.4: Ranges\n",
    "\n",
    "In these Comprehension Checks, we will review a range of Python topics, and do not expect you to know the answer without any aids.  As you answer these questions, feel free to use Python and the internet interactively to get the right answer!\n",
    "\n",
    "#### Ranges: Question 1\n",
    "\n",
    "Why might you prefer to use a range over a list?\n",
    "\n",
    "- **Ranges do not instantiate their elements, making them more efficient in loops.**\n",
    "- Ranges are a type of list, and support all list methods as well as some special methods for range objects.\n",
    "- Creating a range is faster than creating a list, but lists require less memory.\n",
    "\n",
    "### CC 1.2.5: Strings\n",
    "\n",
    "In these Comprehension Checks, we will review a range of Python topics, and do not expect you to know the answer without any aids.  As you answer these questions, feel free to use Python and the internet interactively to get the right answer!\n",
    "\n",
    "#### Strings: Question 1\n",
    "\n",
    "Which of the following expressions are valid?\n",
    "\n",
    "- **```2 + 2```**\n",
    "- **```\"2\" +\"2\"```**\n",
    "- ```2 + \"2\"```\n",
    "- **```2 * 2```**\n",
    "- ```\"2\" * \"2\"```\n",
    "- **```2 * \"2\"```**\n",
    "\n",
    "#### Strings: Question 2\n",
    "\n",
    "Which of the following lines of code will fail to return the integers 0 through 9 in a single string?\n",
    "\n",
    "- ```\"0\"+\"1\"+\"2\"+\"3\"+\"4\"+\"5\"+\"6\"+\"7\"+\"8\"+\"9\"```\n",
    "- ```\"\".join([str(i) for i in range(10)])```\n",
    "- **```str(range(10))```**\n",
    "- ```string.digits (using the string library)```\n",
    "\n",
    "#### Strings: Question 3\n",
    "\n",
    "Can you find a string method that tests if the string \"125,000\" only contains digits?\n",
    "\n",
    "Enter your code that tests whether the string \"125,000\" contains only digits.\n",
    "\n",
    "**```str.isdigit(\"125,000\")```**\n",
    "\n",
    "### CC 1.2.6: Sets\n",
    "\n",
    "In these Comprehension Checks, we will review a range of Python topics, and do not expect you to know the answer without any aids.  As you answer these questions, feel free to use Python and the internet interactively to get the right answer!\n",
    "\n",
    "#### Sets: Question 1\n",
    "\n",
    "Let sets ```x={1,2,3}``` and ```y={2,3,4}```. How could you get {4} from x and y using basic set operations?\n",
    "\n",
    "Enter your code here.\n",
    "\n",
    "**```y not in x```** \n",
    "\n",
    "#### Sets: Question 2\n",
    "\n",
    "Consider again sets ```x={1,2,3}``` and ```y={2,3,4}```. How could you get {2, 3} from x and y using basic set operations?\n",
    "\n",
    "Enter your code here.\n",
    "\n",
    "**```x & y```**\n",
    "\n",
    "#### Sets: Question 3\n",
    "\n",
    "Consider again sets ```x={1,2,3}``` and ```y={2,3,4```}. How could you get {1, 4} from x and y using basic set operations?\n",
    "\n",
    "Enter your code here.\n",
    "\n",
    "**```x ^ y```**\n",
    "\n",
    "#### Sets: Question 4\n",
    "\n",
    "Consider again sets x={1,2,3} and y={2,3,4} . Which following lines of code will determine if all elements of x are in y ?\n",
    "\n",
    "- **```x.issubset(y)```**\n",
    "- ```x.isin(y)```\n",
    "- ```x.is_in(y)```\n",
    "- ```x in y```\n",
    "\n",
    "### CC 1.2.7: Dictionaries\n",
    "\n",
    "In these Comprehension Checks, we will review a range of Python topics, and do not expect you to know the answer without any aids.  As you answer these questions, feel free to use Python and the internet interactively to get the right answer!\n",
    "\n",
    "#### Dictionaries: Question 1\n",
    "\n",
    "Consider the dictionary:\n",
    "\n",
    "```age={'Tim':29, 'Jim':31, 'Pam':27, 'Sam':35}```\n",
    "\n",
    "```age[0]``` returns an error. Why?\n",
    "\n",
    "- For dictionaries, indices begin with 1 .\n",
    "- For dictionaries, keys are not ordered.\n",
    "- In this dictionary, no one has age 0 .\n",
    "- 0 is not a valid key to add to a dictionary.\n",
    "- **There is no key 0 in the dictionary.**\n",
    "\n",
    "#### Dictionaries: Question 2\n",
    "\n",
    "Why may you not edit the key \"Tim\" to \"Tom\"?\n",
    "\n",
    "- \"Tom\" is not a valid dictionary key.\n",
    "- \"Tom\" is already used as a dictionary key.\n",
    "- **Dictionary keys are not mutable.**\n",
    "- Dictionaries are not mutable.\n",
    "\n",
    "#### Dictionaries: Question 3\n",
    "\n",
    "Which of the following data structures may be used as keys in a ```dict```?\n",
    "\n",
    "- **Strings**\n",
    "- Lists\n",
    "- **Tuples**\n",
    "\n",
    "## Part 3: Manipulating Objects\n",
    "\n",
    "### CC 1.3.1: Dynamic Typing\n",
    "\n",
    "#### Dynamic Typing: Question 1\n",
    "\n",
    "Consider the following code:\n",
    "\n",
    "```\n",
    "x=3\n",
    "```\n",
    "\n",
    "x did not exist in memory prior to this code. Which of the following does not occur?\n",
    "\n",
    "- The object 3 is created.\n",
    "- A variable with name x is created.\n",
    "- **The object 3 refers to the variable name x**\n",
    "- The variable x is referred to object 3 .\n",
    "\n",
    "#### Dynamic Typing: Question 2\n",
    "\n",
    "Consider the following code:\n",
    "\n",
    "```\n",
    "x=3 \n",
    "y=x \n",
    "y=y-1\n",
    "```\n",
    "\n",
    "What does x equal?\n",
    "\n",
    "- **3**\n",
    "- 2\n",
    "- y\n",
    "\n",
    "#### Dynamic Typing: Question 3\n",
    "\n",
    "Consider the following code:\n",
    "\n",
    "```\n",
    "L1 = [2,3,4] \n",
    "L2 = L1 \n",
    "L2[0] = 24\n",
    "```\n",
    "\n",
    "What does L1 equal?\n",
    "\n",
    "- **L2*\n",
    "- [2,3,4]\n",
    "- This code contains an error.\n",
    "\n",
    "#### Dynamic Typing: Question 4\n",
    "\n",
    "Consider the following code:\n",
    "\n",
    "```\n",
    "L = [2,3,4] \n",
    "M1 = L \n",
    "M2 = L[:] \n",
    "M1 is M2 \n",
    "```\n",
    "\n",
    "What will this return?\n",
    "\n",
    "- True\n",
    "- **False**\n",
    "\n",
    "### CC 1.3.2: Copies\n",
    "\n",
    "#### Copies: Question 1\n",
    "\n",
    "Consider the following code:\n",
    "    \n",
    "```\n",
    "import copy \n",
    "x = [1,[2]] \n",
    "y = copy.copy(x) \n",
    "z = copy.deepcopy(x) \n",
    "y is z \n",
    "```\n",
    "\n",
    "What will this return?\n",
    "\n",
    "- True\n",
    "- **False**\n",
    "- This code contains an error.\n",
    "\n",
    "### CC 1.3.3: Statements\n",
    "\n",
    "#### Statements: Question 1\n",
    "\n",
    "Consider the following code:\n",
    "    \n",
    "```\n",
    "if False: \n",
    "    print(\"False!\") \n",
    "elif True: \n",
    "    print(\"Now True!\") \n",
    "else: \n",
    "    print(\"Finally True!\") \n",
    "```   \n",
    "\n",
    "What does this print?\n",
    "\n",
    "- \"False!\"\n",
    "- **\"Now True!\"**\n",
    "- \"Finally True!\"\n",
    "- \"Now True!\"; \"Finally True!\"\n",
    "\n",
    "#### Statements: Question 2\n",
    "\n",
    "Consider the following code:\n",
    "    \n",
    "```\n",
    "if n%2 == 0:\n",
    "  #blank#\n",
    "else:\n",
    "  print(\"odd\")\n",
    "```\n",
    "\n",
    "Assume that n is a previously defined integer. Can you replace the #blank# line so that the code prints \"even\" if n is even, and \"odd\" if n is odd?\n",
    "\n",
    "Enter your code here.\n",
    "\n",
    "**```print(\"even\")```**\n",
    " \n",
    "\n",
    "### CC 1.3.4: For and While Loops\n",
    "\n",
    "#### For and While Loops: Question 1\n",
    "\n",
    "Consider ```bears = {\"Grizzly\":\"angry\", \"Brown\":\"friendly\", \"Polar\":\"friendly\"}```. Can you replace #blank# so the code will print a greeting only to friendly bears?\n",
    "\n",
    "```\n",
    "for bear in bears:\n",
    "  if #blank#:\n",
    "   print(\"Hello, \"+bear+\" bear!\")\n",
    "else:\n",
    "  print(\"odd\")\n",
    "```\n",
    "\n",
    "Enter your code here.\n",
    "\n",
    "**```bears[bear] == \"friendly\"```**\n",
    "\n",
    "#### For and While Loops: Question 2\n",
    "\n",
    "Consider the following code:\n",
    "\n",
    "```\n",
    "is_prime = True\n",
    "for i in range(2,n):\n",
    "   if n%i == 0:\n",
    "     #blank#\n",
    "print(is_prime)\n",
    "```\n",
    "\n",
    "Can you fill in the #blank# line so the code will only print True if n is prime?\n",
    "\n",
    "Enter your code here.\n",
    "\n",
    "**```is_prime = False```**\n",
    "\n",
    "#### For and While Loops: Question 3\n",
    "\n",
    "Consider the following code:\n",
    "\n",
    "```\n",
    "n=100\n",
    "number_of_times = 0\n",
    "while n >= 1:\n",
    "   n /= 2\n",
    "   number_of_times += 1\n",
    "print(number_of_times)\n",
    "```\n",
    "\n",
    "What will this print?\n",
    "\n",
    "Enter your numerical answer here.\n",
    "\n",
    "**7**\n",
    "\n",
    "### CC 1.3.5: List Comprehensions\n",
    "\n",
    "#### List Comprehensions: Question 1\n",
    "\n",
    "Consider the following code:\n",
    "\n",
    "```\n",
    "sum([i**2 for i in range(3)])\n",
    "```\n",
    "\n",
    "What will this output?\n",
    "\n",
    "- [0, 1, 2, 3, 4, 5, 6, 7, 8]\n",
    "- [0, 1, 4]\n",
    "- **5**\n",
    "- 36\n",
    "\n",
    "\n",
    "#### List Comprehensions: Question 2\n",
    "\n",
    "How can you use a list comprehension, including if and for, to sum the odd numbers from 0 through 9?\n",
    "\n",
    "Enter your code here.\n",
    "\n",
    "**```sum(num for num in range(10) if num % 2 == 1)```**\n",
    "\n",
    "\n",
    "\n",
    "### CC 1.3.6: Reading and Writing Files\n",
    "\n",
    "#### Reading and Writing Files: Question 1\n",
    "\n",
    "Consider the following code:\n",
    "\n",
    "```\n",
    "F = open(\"input.txt\", \"w\") \n",
    "F.write(\"Hello\\nWorld\") \n",
    "F.close() \n",
    "lines = [] \n",
    "for line in open(\"input.txt\"): \n",
    "    lines.append(line.strip()) \n",
    "print(lines) \n",
    "```\n",
    "\n",
    "What does this print?\n",
    "\n",
    "- Hello World\n",
    "- 'Hello World'\n",
    "- **['Hello', 'World']**\n",
    "- 'Hello', 'World'\n",
    "- This code contains an error.\n",
    "\n",
    "### CC 1.3.7: Introduction to Functions\n",
    "\n",
    "#### Introduction to Functions: Question 1\n",
    "\n",
    "Consider the following function:\n",
    "\n",
    "```\n",
    "def modify(mylist): \n",
    "    mylist[0] *= 10 \n",
    "    return(mylist) \n",
    "L = [1, 3, 5, 7, 9] \n",
    "M = modify(L) \n",
    "M is L \n",
    "```\n",
    "\n",
    "What is the value of the final line?\n",
    "\n",
    "- **True**\n",
    "- False\n",
    "- This code contains an error.\n",
    "\n",
    "### CC 1.3.8: Writing Simple Functions\n",
    "\n",
    "#### Writing Simple Functions: Question 1\n",
    "\n",
    "Consider the function intersect() defined in the previous video, 1.3.8: Writing Simple Functions. What will ```intersect([1,2,3], [3,4,5,6,7])``` return?\n",
    "\n",
    "- [1,2,3,4,5,6,7]\n",
    "- **[3]**\n",
    "- 3\n",
    "- This code contains an error.\n",
    "\n",
    "#### Writing Simple Functions: Question 2\n",
    "\n",
    "Consider the following code:\n",
    "\n",
    "```\n",
    "def is_vowel(letter):\n",
    "   if #blank#:\n",
    "     return(True)\n",
    "   else:\n",
    "     return(False)\n",
    "```\n",
    "\n",
    "Can you replace #blank# in the second line so is_vowel becomes a function that takes a letter as input and prints whether a letter is a vowel (in \"aeiouy\")?\n",
    "\n",
    "Enter your code here.\n",
    "\n",
    "**```letter in (\"aeiouy\")```**\n",
    " \n",
    "\n",
    "#### Writing Simple Functions: Question 3\n",
    "\n",
    "Consider the command ```is_vowel(4)```. Why would this not work?\n",
    "\n",
    "- 4 is not a vowel, leading to an error, and the function returns False .\n",
    "- 4 is not a letter, and Python only tests if single letters are in a string .\n",
    "- **4 is not a string , and Python cannot test if an int is in a string.**\n",
    "- All the above.\n",
    "- None of the above.\n",
    "\n",
    "#### Writing Simple Functions: Question 4\n",
    "\n",
    "Consider the following proposed emendation of ```is_vowel```:\n",
    "\n",
    "```\n",
    "def is_vowel(letter): \n",
    "    if type(letter) == int: \n",
    "        letter = str(letter) \n",
    "    if letter in \"aeiouy\": \n",
    "        return(True) \n",
    "    else: \n",
    "        return(False) \n",
    "```\n",
    "\n",
    "Does this properly accomodate objects of type int for use with ```is_vowel```? For example, will ```is_vowel(4)``` produce a correct answer?\n",
    "\n",
    "- **Yes**\n",
    "- No\n",
    "\n",
    "#### Writing Simple Functions: Question 5\n",
    "\n",
    "Recall that n! (\"n factorial\") is defined as the product of all integers 1,...,n. Additionally, by definition,0!===1 .\n",
    "\n",
    "Let's create a factorial function. Consider the following code:\n",
    "\n",
    "```\n",
    "def factorial(n):\n",
    "   if n == 0:\n",
    "     return 1\n",
    "   else:\n",
    "     N = 1\n",
    "     for i in range(1, n+1):\n",
    "       #blank#\n",
    "     return(N)\n",
    "```\n",
    "\n",
    "Can you fill in the #blank# to complete the function as described above?\n",
    "\n",
    "Enter your code here.\n",
    "\n",
    "**```N = N*i```**\n",
    " \n",
    "\n",
    "### CC 1.3.9: Common Mistakes and Errors\n",
    "\n",
    "#### Common Mistakes and Errors: Question 1\n",
    "\n",
    "Which of the following error messages was not presented in the video?\n",
    "\n",
    "- AttributeError\n",
    "- IndexError\n",
    "- **ValueError**\n",
    "- KeyError\n",
    "- TypeError\n",
    "- Erroneous code without an error message"
   ]
  },
  {
   "cell_type": "markdown",
   "metadata": {},
   "source": [
    "# Exercise 1a\n",
    "\n",
    "In this five-part exercise, we will count the frequency of each letter in a given string.\n",
    "\n",
    "**Instructions**\n",
    "\n",
    "- Import the ```string``` library.\n",
    "- Create a variable ```alphabet``` that consists of the lowercase and uppercase letters in the English alphabet \n",
    "using the ```ascii_letters``` attribute of the string library.\n",
    "\n",
    "import string\n",
    "alphabet = string.ascii_letters\n",
    "alphabet\n",
    "\n",
    "# Exercise 1b\n",
    "\n",
    "**Instructions**\n",
    "\n",
    "- The lower and upper cases of the English alphabet is stored as ```alphabet```.\n",
    "- Consider the sentence 'Jim quickly realized that the beautiful gowns are expensive'. Create a dictionary ```count_letters``` with keys consisting of each unique letter in the sentence and values consisting of the number of times each letter is used in this sentence. Count both upper case and lower case letters separately in the dictionary.\n",
    "\n",
    "\n",
    "sentence = 'Jim quickly realized that the beautiful gowns are expensive'\n",
    "\n",
    "count_letters = {}\n",
    "\n",
    "import collections\n",
    "\n",
    "count_letters = dict(collections.Counter(sentence))\n",
    "count_letters\n",
    "\n",
    "# Exercise 1c\n",
    "\n",
    "**Instructions**\n",
    "\n",
    "- Rewrite your code from 1b to make a function called ```counter``` that takes a string ```input_string``` and returns a dictionary of letter counts ```count_letters```. If you were unable to complete 1b, you can use the solution by selecting ```Show Answer```.\n",
    "- Use your function to call ```counter(sentence)```.\n",
    "\n",
    "\n",
    "import collections\n",
    "\n",
    "def counter(input_string):\n",
    "    count_letters = dict(collections.Counter(input_string))\n",
    "    count_letters.pop(' ')\n",
    "    return count_letters\n",
    "\n",
    "counter(sentence)\n",
    "\n",
    "# Exercise 1d\n",
    "\n",
    "**Instructions**\n",
    "\n",
    "- Abraham Lincoln was a president during the American Civil War. His famous 1863 Gettysburg Address has been stored as address, and the ```counter``` function defined in part 1c has been loaded. Use these to return a dictionary consisting of the count of each letter in this address, and save this as ```address_count```.\n",
    "- Print address_count.\n",
    "\n",
    "\n",
    "address = 'Four score and seven years ago our fathers brought forth on this continent, a new nation, conceived in Liberty, and dedicated to the proposition that all men are created equal. Now we are engaged in a great civil war, testing whether that nation, or any nation so conceived and so dedicated, can long endure. We are met on a great battle-field of that war. We have come to dedicate a portion of that field, as a final resting place for those who here gave their lives that that nation might live. It is altogether fitting and proper that we should do this. But, in a larger sense, we can not dedicate -- we can not consecrate -- we can not hallow -- this ground. The brave men, living and dead, who struggled here, have consecrated it, far above our poor power to add or detract. The world will little note, nor long remember what we say here, but it can never forget what they did here. It is for us the living, rather, to be dedicated here to the unfinished work which they who fought here have thus far so nobly advanced. It is rather for us to be here dedicated to the great task remaining before us -- that from these honored dead we take increased devotion to that cause for which they gave the last full measure of devotion -- that we here highly resolve that these dead shall not have died in vain -- that this nation, under God, shall have a new birth of freedom -- and that government of the people, by the people, for the people, shall not perish from the earth.'\n",
    "\n",
    "address\n",
    "\n",
    "address_count = counter(address)\n",
    "\n",
    "print(address_count)\n",
    "\n",
    "# Exercise 1e\n",
    "\n",
    "**Instructions**\n",
    "\n",
    "- The frequency of each letter in the Gettysburg Address is already stored as ```address_count.``` Use this dictionary to find the most common letter in the Gettysburg address.\n",
    "- Store this letter as ```most_frequent_letter```, and print your answer.\n",
    "\n",
    "\n",
    "address_count\n",
    "\n",
    "import operator\n",
    "\n",
    "calculate_most_frequent_letter = sorted(address_count.items(), key=operator.itemgetter(1))\n",
    "\n",
    "calculate_most_frequent_letter\n",
    "\n",
    "most_frequent_letter = calculate_most_frequent_letter[-1][0]\n",
    "\n",
    "most_frequent_letter\n",
    "\n",
    "type(most_frequent_letter)\n",
    "\n",
    "The ratio of the areas of a circle and the square inscribing it is pi / 4. In this six-part exercise, we will find a way to approximate this value.\n",
    "\n",
    "# Exercise 2a\n",
    "\n",
    "The ratio of the areas of a circle and the square inscribing it is pi / 4. In this six-part exercise, we will find a way to approximate this value.\n",
    "\n",
    "**Instructions**\n",
    "\n",
    "- Using the ```math``` library, calculate and print the value of ```pi / 4```.\n",
    "\n",
    "\n",
    "import math\n",
    "print (math.pi/4)\n",
    "\n",
    "# Exercise 2b\n",
    "\n",
    "**Instructions**\n",
    "\n",
    "- Using ```random.uniform```, create a function ```rand()``` that generates a single float between -1 and 1.\n",
    "- Call ```rand()``` once. So we can check your solution, we will use ```random.seed``` to fix the value called by your function.\n",
    "\n",
    "\n",
    "import random\n",
    "random.uniform(-1,1)\n",
    "\n",
    "import random\n",
    "\n",
    "random.seed(1) # This line fixes the value called by your function,\n",
    "               # and is used for answer-checking.\n",
    "\n",
    "def rand():\n",
    "   # define `rand` here!\n",
    "   return random.uniform(-1,1)\n",
    "\n",
    "\n",
    "print(rand())\n",
    "\n",
    "# Exercise 2c\n",
    "\n",
    "**Instructions**\n",
    "\n",
    "- The distance between two points x and y is the square root of the sum of squared differences along each dimension of ```x``` and ```y```. Create a function ```distance(x, y)``` that takes two vectors and outputs the distance between them. Use your function to find the distance between ```x=(0,0)``` and ```y=(1,1)```.\n",
    "- Print your answer.\n",
    "\n",
    "\n",
    "import math\n",
    "\n",
    "def distance(x, y):\n",
    "    distance = math.sqrt((y[1]-x[1])**2 + (y[0]-x[0])**2)\n",
    "    return distance\n",
    "    \n",
    "x=(0,0)\n",
    "y=(1,1)\n",
    "print(distance(x,y))\n",
    "\n",
    "# Exercise 2d\n",
    "\n",
    "**Instructions**\n",
    "\n",
    "- Write a function ```in_circle(x, origin)``` that determines whether a two-dimensional point falls within a unit circle surrounding a given origin. Your function should return a boolean that is ```True``` if the distance between ```x``` and origin is less than 1, and ```False``` otherwise. ```distance(x, y)``` as defined in 2c is pre-loaded.\n",
    "- Use your function to determine whether the point (1,1) lies within the unit circle centered at (0,0).\n",
    "- Print your answer.\n",
    "\n",
    "\n",
    "import random, math\n",
    "\n",
    "random.seed(1)\n",
    "def in_circle(x, origin = [0]*2):\n",
    "    if distance(x, origin) < 1:\n",
    "        return True\n",
    "    else:\n",
    "        return False\n",
    "\n",
    "x = (1,1)\n",
    "print(in_circle(x, origin = [0]*2))\n",
    "\n",
    "# Exercise 2e\n",
    "\n",
    "**Instructions**\n",
    "\n",
    "- Create a list of ```R=10000``` booleans called ```inside``` that determines whether each point in ```x``` falls within the unit circle centered at (0,0). Make sure to use ```in_circle```.\n",
    "- Find the proportion of points within the circle by summing the count of ```True``` in ```inside```, and dividing by ```R```.\n",
    "- Print your answer. This proportion is an estimate of the ratio of the two areas!\n",
    "\n",
    "R = 10000\n",
    "x = []\n",
    "inside = []\n",
    "for i in range(R):\n",
    "    point = [rand(), rand()]\n",
    "    x.append(point)\n",
    "    # Enter your code here! #\n",
    "    #print(x)\n",
    "    inside.append(in_circle(x[i], origin = [0]*2))\n",
    "\n",
    "print(sum(inside)/R)\n",
    "\n",
    "# Exercise 2f\n",
    "\n",
    "**Instructions**\n",
    "\n",
    "- Find the difference between your estimate from part ```2e``` and ```math.pi / 4```.\n",
    "- Print your answer.\n",
    "\n",
    "\n",
    "print(math.pi/4 - sum(inside)/R)\n",
    "\n",
    "# Exercise 3a\n",
    "\n",
    "A list of numbers can be very unsmooth, meaning very high numbers can be right next to very low numbers. This list may represent a smooth path in reality that is masked with random noise (for example, satellite trajectories with inaccurate transmission). One way to smooth the values in the list is to replace each value with the average of each value's neighbors, including the value itself.\n",
    "\n",
    "**Instructions**\n",
    "\n",
    "\n",
    "- Write a function ```moving_window_average(x, n_neighbors)``` that takes a list ```x``` and the number of neighbors ```n_neighbors``` on either side of a given member of the list to consider.\n",
    "- For each value in ```x```, ```moving_window_average(x, n_neighbors)``` computes the average of that value's neighbors, where neighbors includes the value itself.\n",
    "- moving_window_average should return a list of averaged values that is the same length as the original list.\n",
    "- If there are not enough neighbors (for cases near the edge), substitute the original value as many times as there are missing neighbors.\n",
    "- Use your function to find the moving window sum of ```x=[0,10,5,3,1,5]``` and ```n_neighbors=1```.\n",
    "\n",
    "# 2nd method\n",
    "\n",
    "import random\n",
    "\n",
    "random.seed(1)\n",
    "\n",
    "def moving_window_average(x, n_neighbors=1):\n",
    "    n = len(x)\n",
    "    width = n_neighbors*2 + 1\n",
    "    x = [x[0]]*n_neighbors + x + [x[-1]]*n_neighbors\n",
    "    # To complete the function,\n",
    "    # return a list of the mean of values from i to i+width for all values i from 0 to n-1.\n",
    "    meanValues = []\n",
    "    for i in range(1, n+1):\n",
    "        meanValues.append((x[i-1] + x[i] + x[i+1])/width)\n",
    "    return meanValues\n",
    "\n",
    "x=[0,10,5,3,1,5]\n",
    "print(moving_window_average(x, 1))\n",
    "\n",
    "# Exercise 3b\n",
    "\n",
    "**Instructions**\n",
    "\n",
    "- Compute and store ```R=1000``` random values from 0-1 as ```x```.\n",
    "- ```moving_window_average(x, n_neighbors``` is pre-loaded into memory from ```3a```. Compute the moving window average for ```x``` for values of ```n_neighbors``` ranging from 1 to 9 inclusive.\n",
    "- Store ```x``` as well as each of these averages as consecutive lists in a list called ```Y```.\n",
    "\n",
    "\n",
    "import random\n",
    "\n",
    "random.seed(1) \n",
    "\n",
    "R = 1000\n",
    "x = []\n",
    "for i in range(R):\n",
    "    num = random.uniform(0,1)\n",
    "    x.append(num)\n",
    "\n",
    "Y = []\n",
    "\n",
    "Y.append(x)\n",
    "\n",
    "for i in range(1,10):\n",
    "    mov_avg = moving_window_average(x, n_neighbors=i)\n",
    "    Y.append(mov_avg)\n",
    "\n",
    "# Exercise 3c\n",
    "\n",
    "**Instructions**\n",
    "\n",
    "- ```moving_window_average(x, n_neighbors=2)``` and ```Y``` are already loaded into memory. For each list in ```Y```, calculate and store the range (the maximum minus the minimum) in a new list ```ranges```.\n",
    "- Print your answer. As the window width increases, does the range of each list increase or decrease? Why do you think that is?\n",
    "\n",
    "ranges = []\n",
    "for i in range(len(Y)):\n",
    "    x = max(Y[i]) - min(Y[i])\n",
    "    ranges.append(x)\n",
    "\n",
    "print(ranges)"
   ]
  }
 ],
 "metadata": {
  "kernelspec": {
   "display_name": "Python 3",
   "language": "python",
   "name": "python3"
  },
  "language_info": {
   "codemirror_mode": {
    "name": "ipython",
    "version": 3
   },
   "file_extension": ".py",
   "mimetype": "text/x-python",
   "name": "python",
   "nbconvert_exporter": "python",
   "pygments_lexer": "ipython3",
   "version": "3.8.5"
  }
 },
 "nbformat": 4,
 "nbformat_minor": 4
}
