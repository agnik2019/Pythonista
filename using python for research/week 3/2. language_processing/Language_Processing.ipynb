{
 "cells": [
  {
   "cell_type": "code",
   "execution_count": 1,
   "metadata": {},
   "outputs": [],
   "source": [
    "#test string\n",
    "test = 'This is my test text. We are keeping this text to keep this manageable.'"
   ]
  },
  {
   "cell_type": "code",
   "execution_count": 2,
   "metadata": {},
   "outputs": [],
   "source": [
    "def count_words(text):\n",
    "    '''Count the number of times each word occurs in text (str).\n",
    "    Return dictionary where keys are unique words and values are\n",
    "    word counts'''\n",
    "    word_counts = {}\n",
    "    for word in text.split(\" \"):\n",
    "        #known word\n",
    "        if word in word_counts:\n",
    "            word_counts[word] +=1 \n",
    "        #unknown word\n",
    "        else:\n",
    "            word_counts[word] = 1\n",
    "    return word_counts"
   ]
  },
  {
   "cell_type": "code",
   "execution_count": 3,
   "metadata": {},
   "outputs": [
    {
     "data": {
      "text/plain": [
       "{'This': 1,\n",
       " 'is': 1,\n",
       " 'my': 1,\n",
       " 'test': 1,\n",
       " 'text.': 1,\n",
       " 'We': 1,\n",
       " 'are': 1,\n",
       " 'keeping': 1,\n",
       " 'this': 2,\n",
       " 'text': 1,\n",
       " 'to': 1,\n",
       " 'keep': 1,\n",
       " 'manageable.': 1}"
      ]
     },
     "execution_count": 3,
     "metadata": {},
     "output_type": "execute_result"
    }
   ],
   "source": [
    "count_words(test)"
   ]
  },
  {
   "cell_type": "code",
   "execution_count": 4,
   "metadata": {},
   "outputs": [],
   "source": [
    "def count_words(text):\n",
    "    '''Count the number of times each word occurs in text (str).\n",
    "    Return dictionary where keys are unique words and values are\n",
    "    word counts. Skips punctuation'''\n",
    "    \n",
    "    #lower case letters\n",
    "    text = text.lower()\n",
    "    \n",
    "    #skip punctuation\n",
    "    skips = ['.', ':', ';', \"'\", '\"']\n",
    "    for ch in skips:\n",
    "        text = text.replace(ch, \"\")\n",
    "    \n",
    "    word_counts = {}\n",
    "    for word in text.split(\" \"):\n",
    "        #known word\n",
    "        if word in word_counts:\n",
    "            word_counts[word] +=1 \n",
    "        #unknown word\n",
    "        else:\n",
    "            word_counts[word] = 1\n",
    "    return word_counts"
   ]
  },
  {
   "cell_type": "code",
   "execution_count": 5,
   "metadata": {},
   "outputs": [
    {
     "data": {
      "text/plain": [
       "{'this': 3,\n",
       " 'is': 1,\n",
       " 'my': 1,\n",
       " 'test': 1,\n",
       " 'text': 2,\n",
       " 'we': 1,\n",
       " 'are': 1,\n",
       " 'keeping': 1,\n",
       " 'to': 1,\n",
       " 'keep': 1,\n",
       " 'manageable': 1}"
      ]
     },
     "execution_count": 5,
     "metadata": {},
     "output_type": "execute_result"
    }
   ],
   "source": [
    "count_words(test)"
   ]
  },
  {
   "cell_type": "code",
   "execution_count": 6,
   "metadata": {},
   "outputs": [],
   "source": [
    "from collections import Counter\n",
    "\n",
    "def count_words_fast(text):\n",
    "    '''Count the number of times each word occurs in text (str).\n",
    "    Return dictionary where keys are unique words and values are\n",
    "    word counts. Skips punctuation'''\n",
    "    \n",
    "    #lower case letters\n",
    "    text = text.lower()\n",
    "    \n",
    "    #skip punctuation\n",
    "    skips = ['.', ':', ';', \"'\", '\"']\n",
    "    for ch in skips:\n",
    "        text = text.replace(ch, \"\")\n",
    "    \n",
    "    word_counts = Counter(text.split(' '))\n",
    "    return word_counts"
   ]
  },
  {
   "cell_type": "code",
   "execution_count": 7,
   "metadata": {},
   "outputs": [
    {
     "data": {
      "text/plain": [
       "Counter({'this': 3,\n",
       "         'is': 1,\n",
       "         'my': 1,\n",
       "         'test': 1,\n",
       "         'text': 2,\n",
       "         'we': 1,\n",
       "         'are': 1,\n",
       "         'keeping': 1,\n",
       "         'to': 1,\n",
       "         'keep': 1,\n",
       "         'manageable': 1})"
      ]
     },
     "execution_count": 7,
     "metadata": {},
     "output_type": "execute_result"
    }
   ],
   "source": [
    "count_words_fast(test)"
   ]
  },
  {
   "cell_type": "code",
   "execution_count": 8,
   "metadata": {},
   "outputs": [
    {
     "data": {
      "text/plain": [
       "True"
      ]
     },
     "execution_count": 8,
     "metadata": {},
     "output_type": "execute_result"
    }
   ],
   "source": [
    "count_words_fast(test) == count_words(test)"
   ]
  },
  {
   "cell_type": "code",
   "execution_count": 9,
   "metadata": {},
   "outputs": [
    {
     "data": {
      "text/plain": [
       "6"
      ]
     },
     "execution_count": 9,
     "metadata": {},
     "output_type": "execute_result"
    }
   ],
   "source": [
    "len(count_words(\"This comprehension check is to check for comprehension.\"))"
   ]
  },
  {
   "cell_type": "code",
   "execution_count": 10,
   "metadata": {},
   "outputs": [
    {
     "data": {
      "text/plain": [
       "False"
      ]
     },
     "execution_count": 10,
     "metadata": {},
     "output_type": "execute_result"
    }
   ],
   "source": [
    "text = 'This comprehension check is to check for comprehension.'\n",
    "count_words(text) is count_words_fast(text)"
   ]
  },
  {
   "cell_type": "code",
   "execution_count": 11,
   "metadata": {},
   "outputs": [
    {
     "data": {
      "text/plain": [
       "True"
      ]
     },
     "execution_count": 11,
     "metadata": {},
     "output_type": "execute_result"
    }
   ],
   "source": [
    "text = 'This comprehension check is to check for comprehension.'\n",
    "count_words(text) == count_words_fast(text)"
   ]
  },
  {
   "cell_type": "markdown",
   "metadata": {},
   "source": [
    "#### Introduction to Language Processing: Question 1\n",
    "\n",
    "What is Project Gutenberg?\n",
    "\n",
    "- **An online repository of publically available books in many languages.**\n",
    "- An online repository of electronically-scanned microfiche copies of the original works of Martin Luther.\n",
    "- An online translation service that can be used for any text file, including entire books.\n",
    "\n",
    "#### Counting Words: Question 1\n",
    "\n",
    "The function ```count_words``` is as defined in Video 3.2.2.\n",
    "\n",
    "Consider the following code:\n",
    "\n",
    "```len(count_words(\"This comprehension check is to check for comprehension.\"))```\n",
    "\n",
    "What does this return?\n",
    "\n",
    "- 5\n",
    "- **6**\n",
    "- 7\n",
    "- 8\n",
    "\n",
    "#### Counting Words: Question 2\n",
    "\n",
    "The functions ```count_words``` and ```count_words_fast``` are as defined in Video 3.2.2. Consider the following code:\n",
    "\n",
    "```count_words(text) is count_words_fast(text)```\n",
    "\n",
    "What does this return?\n",
    "\n",
    "- True\n",
    "- **False**"
   ]
  },
  {
   "cell_type": "markdown",
   "metadata": {},
   "source": [
    "# Reading in a book"
   ]
  },
  {
   "cell_type": "code",
   "execution_count": 12,
   "metadata": {},
   "outputs": [],
   "source": [
    "def read_book(title_path):\n",
    "    '''\n",
    "    Read a book and retirn it as a string\n",
    "    '''\n",
    "    with open(title_path, 'r', encoding = 'UTF-8') as current_file:\n",
    "        text = current_file.read()\n",
    "        text = text.replace('\\n', '').replace('\\r', '')\n",
    "    return text"
   ]
  },
  {
   "cell_type": "code",
   "execution_count": 13,
   "metadata": {},
   "outputs": [],
   "source": [
    "text = read_book('books/English/shakespeare/Romeo and Juliet.txt')"
   ]
  },
  {
   "cell_type": "code",
   "execution_count": 14,
   "metadata": {},
   "outputs": [
    {
     "data": {
      "text/plain": [
       "169275"
      ]
     },
     "execution_count": 14,
     "metadata": {},
     "output_type": "execute_result"
    }
   ],
   "source": [
    "len(text)"
   ]
  },
  {
   "cell_type": "code",
   "execution_count": 15,
   "metadata": {},
   "outputs": [],
   "source": [
    "ind = text.find(\"What's in a name?\")"
   ]
  },
  {
   "cell_type": "code",
   "execution_count": 16,
   "metadata": {},
   "outputs": [
    {
     "data": {
      "text/plain": [
       "42757"
      ]
     },
     "execution_count": 16,
     "metadata": {},
     "output_type": "execute_result"
    }
   ],
   "source": [
    "ind"
   ]
  },
  {
   "cell_type": "code",
   "execution_count": 17,
   "metadata": {},
   "outputs": [],
   "source": [
    "sample_text = text[ind:ind + 1000]"
   ]
  },
  {
   "cell_type": "code",
   "execution_count": 18,
   "metadata": {},
   "outputs": [
    {
     "data": {
      "text/plain": [
       "\"What's in a name? That which we call a rose    By any other name would smell as sweet.    So Romeo would, were he not Romeo call'd,    Retain that dear perfection which he owes    Without that title. Romeo, doff thy name;    And for that name, which is no part of thee,    Take all myself.  Rom. I take thee at thy word.    Call me but love, and I'll be new baptiz'd;    Henceforth I never will be Romeo.  Jul. What man art thou that, thus bescreen'd in night,    So stumblest on my counsel?  Rom. By a name    I know not how to tell thee who I am.    My name, dear saint, is hateful to myself,    Because it is an enemy to thee.    Had I it written, I would tear the word.  Jul. My ears have yet not drunk a hundred words    Of that tongue's utterance, yet I know the sound.    Art thou not Romeo, and a Montague?  Rom. Neither, fair saint, if either thee dislike.  Jul. How cam'st thou hither, tell me, and wherefore?    The orchard walls are high and hard to climb,    And the place death, conside\""
      ]
     },
     "execution_count": 18,
     "metadata": {},
     "output_type": "execute_result"
    }
   ],
   "source": [
    "sample_text"
   ]
  },
  {
   "cell_type": "markdown",
   "metadata": {},
   "source": [
    "# Computing Word Frequency Statistics"
   ]
  },
  {
   "cell_type": "code",
   "execution_count": 19,
   "metadata": {},
   "outputs": [],
   "source": [
    "def count_words(text):\n",
    "    '''\n",
    "    Count the number of times each word occurs in text (str).\n",
    "    Return dictionary where keys are unique words and values are\n",
    "    word counts. Skips punctuation\n",
    "    '''\n",
    "    \n",
    "    #lower case letters\n",
    "    text = text.lower()\n",
    "    \n",
    "    #skip punctuation\n",
    "    skips = ['.', ',',':', ';', \"'\", '\"']\n",
    "    for ch in skips:\n",
    "        text = text.replace(ch, \"\")\n",
    "    \n",
    "    word_counts = {}\n",
    "    for word in text.split(\" \"):\n",
    "        #known word\n",
    "        if word in word_counts:\n",
    "            word_counts[word] +=1 \n",
    "        #unknown word\n",
    "        else:\n",
    "            word_counts[word] = 1\n",
    "    return word_counts"
   ]
  },
  {
   "cell_type": "code",
   "execution_count": 20,
   "metadata": {},
   "outputs": [],
   "source": [
    "def read_book(title_path):\n",
    "    '''\n",
    "    Read a book and retirn it as a string\n",
    "    '''\n",
    "    with open(title_path, 'r', encoding = 'UTF-8') as current_file:\n",
    "        text = current_file.read()\n",
    "        text = text.replace('\\n', '').replace('\\r', '')\n",
    "    return text"
   ]
  },
  {
   "cell_type": "code",
   "execution_count": 21,
   "metadata": {},
   "outputs": [],
   "source": [
    "def word_stats(word_counts):\n",
    "    '''\n",
    "    Return number of unique words and\n",
    "    word frequences\n",
    "    '''\n",
    "    num_unique = len(word_counts)\n",
    "    counts = word_counts.values()\n",
    "    return (num_unique, counts)"
   ]
  },
  {
   "cell_type": "code",
   "execution_count": 22,
   "metadata": {},
   "outputs": [],
   "source": [
    "text = read_book('books/English/shakespeare/Romeo and Juliet.txt')"
   ]
  },
  {
   "cell_type": "code",
   "execution_count": 23,
   "metadata": {},
   "outputs": [],
   "source": [
    "word_counts = count_words(text)"
   ]
  },
  {
   "cell_type": "code",
   "execution_count": 24,
   "metadata": {},
   "outputs": [],
   "source": [
    "(num_unique, counts) = word_stats(word_counts)"
   ]
  },
  {
   "cell_type": "code",
   "execution_count": 37,
   "metadata": {},
   "outputs": [
    {
     "data": {
      "text/plain": [
       "5118"
      ]
     },
     "execution_count": 37,
     "metadata": {},
     "output_type": "execute_result"
    }
   ],
   "source": [
    "num_unique"
   ]
  },
  {
   "cell_type": "code",
   "execution_count": 25,
   "metadata": {},
   "outputs": [
    {
     "data": {
      "text/plain": [
       "dict_values([1, 67, 23, 10, 527, 116, 777, 57, 126, 7, 1, 367, 254, 834, 26, 5, 3, 82, 112, 4, 2, 2, 2, 12183, 348, 64, 10, 235, 52, 21, 2, 14, 20, 11, 2, 257, 137, 4, 1, 1, 1, 7, 1, 1, 1, 1, 1, 1, 1, 1, 1, 3, 1, 4, 606, 1, 286, 18, 1, 2, 4, 26, 1, 111, 2, 1, 1, 2, 1, 3, 1, 21, 12, 9, 1, 6, 1, 4, 1, 21, 1, 10, 1, 88, 1, 41, 189, 1, 1, 2, 1, 4, 1, 509, 9, 1, 1, 21, 1, 1, 14, 1, 1, 1, 1, 1, 1, 1, 6, 2, 3, 9, 1, 141, 18, 166, 51, 1, 1, 12, 1, 277, 4, 1, 1, 1, 5, 2, 1, 355, 1, 29, 1, 1, 1, 1, 3, 2, 35, 11, 32, 23, 5, 11, 27, 7, 24, 3, 2, 5, 31, 30, 88, 35, 62, 1, 16, 50, 4, 61, 19, 15, 13, 84, 9, 3, 9, 3, 6, 1, 2, 5, 12, 5, 136, 3, 10, 9, 3, 42, 12, 6, 7, 2, 23, 3, 1, 2, 1, 1, 2, 1, 1, 13, 2, 58, 2, 2, 3, 374, 1, 42, 54, 73, 11, 65, 7, 96, 9, 1, 5, 16, 2, 4, 15, 13, 13, 1, 19, 4, 1, 45, 2, 2, 1, 8, 41, 47, 21, 15, 1, 5, 1, 47, 63, 3, 2, 2, 7, 1, 1, 120, 1, 4, 70, 1, 9, 3, 18, 5, 73, 6, 1, 2, 100, 3, 7, 3, 160, 72, 112, 2, 3, 1, 2, 1, 577, 1, 2, 1, 3, 1, 1, 20, 87, 360, 25, 67, 3, 1, 15, 81, 51, 226, 1, 9, 2, 11, 30, 6, 19, 2, 52, 1, 4, 5, 25, 6, 275, 54, 5, 21, 1, 243, 9, 5, 2, 25, 23, 1, 152, 10, 46, 8, 6, 6, 129, 3, 3, 1, 3, 41, 25, 4, 1, 1, 12, 3, 1, 20, 139, 4, 9, 3, 3, 29, 110, 61, 10, 14, 1, 54, 130, 4, 4, 1, 4, 10, 1, 1, 3, 30, 61, 49, 7, 60, 2, 4, 6, 2, 6, 2, 6, 20, 1, 164, 1, 24, 2, 1, 1, 1, 2, 1, 28, 2, 12, 1, 14, 22, 4, 45, 12, 1, 43, 3, 2, 3, 1, 20, 4, 8, 6, 1, 12, 5, 102, 6, 48, 3, 1, 4, 49, 1, 2, 5, 82, 12, 4, 2, 20, 6, 1, 2, 4, 64, 26, 1, 1, 17, 1, 16, 54, 36, 17, 3, 6, 1, 1, 2, 29, 45, 17, 16, 6, 2, 12, 2, 10, 7, 1, 2, 2, 2, 1, 1, 1, 4, 2, 1, 1, 1, 53, 5, 8, 10, 1, 1, 39, 23, 1, 3, 94, 1, 1, 4, 10, 16, 1, 17, 73, 2, 11, 9, 4, 5, 1, 1, 1, 1, 1, 1, 1, 1, 1, 2, 6, 1, 1, 1, 1, 1, 3, 4, 15, 7, 1, 1, 2, 9, 22, 4, 2, 1, 3, 1, 1, 4, 4, 2, 3, 13, 1, 2, 1, 2, 2, 23, 13, 5, 2, 14, 4, 4, 3, 3, 4, 8, 1, 2, 3, 9, 9, 67, 11, 2, 2, 33, 15, 1, 27, 36, 1, 1, 2, 6, 1, 20, 38, 3, 2, 1, 13, 2, 1, 119, 2, 1, 1, 19, 13, 2, 13, 5, 5, 1, 92, 5, 1, 2, 3, 22, 1, 10, 152, 10, 10, 2, 7, 2, 50, 2, 17, 16, 21, 1, 14, 1, 4, 5, 4, 1, 8, 1, 3, 3, 2, 1, 1, 1, 1, 1, 16, 1, 38, 4, 2, 1, 9, 1, 2, 1, 1, 3, 16, 18, 4, 6, 9, 54, 16, 2, 1, 2, 3, 1, 2, 1, 2, 7, 64, 60, 6, 17, 1, 2, 3, 4, 1, 8, 6, 5, 13, 1, 1, 1, 1, 1, 1, 21, 26, 1, 6, 10, 2, 7, 1, 8, 2, 2, 2, 4, 1, 63, 10, 1, 6, 8, 7, 5, 7, 4, 1, 49, 4, 1, 1, 1, 1, 62, 1, 3, 5, 2, 1, 2, 1, 5, 2, 2, 32, 2, 7, 1, 11, 2, 2, 2, 56, 1, 3, 4, 1, 4, 83, 1, 37, 1, 3, 12, 25, 5, 7, 1, 1, 6, 10, 163, 31, 1, 2, 5, 14, 4, 1, 23, 1, 26, 1, 4, 1, 19, 1, 8, 7, 9, 1, 151, 2, 6, 12, 3, 1, 5, 1, 1, 14, 19, 27, 1, 1, 1, 6, 47, 45, 2, 9, 1, 6, 6, 2, 6, 9, 1, 1, 1, 1, 2, 1, 1, 1, 1, 6, 4, 2, 7, 7, 1, 1, 12, 16, 1, 4, 4, 9, 24, 3, 8, 3, 14, 1, 3, 29, 4, 1, 1, 14, 28, 2, 1, 12, 2, 1, 2, 1, 2, 7, 1, 2, 1, 1, 1, 2, 1, 17, 4, 13, 2, 3, 3, 11, 57, 1, 3, 1, 1, 22, 42, 18, 2, 1, 3, 1, 7, 2, 3, 1, 12, 4, 1, 7, 2, 2, 1, 111, 1, 11, 3, 2, 1, 2, 1, 3, 1, 2, 1, 5, 3, 1, 2, 1, 1, 4, 10, 17, 3, 2, 3, 1, 1, 1, 3, 1, 1, 1, 1, 5, 5, 2, 2, 3, 2, 4, 3, 36, 3, 9, 19, 3, 1, 3, 2, 9, 2, 3, 10, 4, 1, 2, 1, 10, 5, 3, 1, 8, 1, 5, 25, 3, 1, 2, 9, 2, 4, 8, 1, 2, 7, 1, 11, 22, 2, 13, 1, 4, 19, 1, 1, 1, 9, 1, 2, 23, 5, 1, 2, 1, 1, 25, 1, 1, 11, 14, 11, 1, 5, 6, 12, 2, 1, 2, 1, 3, 2, 48, 2, 1, 17, 1, 1, 1, 4, 14, 5, 9, 17, 1, 2, 19, 1, 5, 1, 6, 1, 1, 2, 7, 4, 6, 1, 6, 7, 28, 10, 2, 1, 1, 2, 1, 1, 1, 12, 3, 1, 1, 1, 11, 1, 14, 2, 2, 6, 2, 9, 24, 2, 6, 7, 1, 1, 1, 18, 1, 1, 1, 2, 7, 1, 1, 1, 1, 3, 7, 18, 4, 6, 2, 3, 1, 1, 3, 2, 1, 1, 1, 1, 3, 2, 8, 1, 1, 2, 18, 1, 14, 1, 1, 2, 17, 1, 1, 2, 7, 1, 5, 2, 1, 3, 1, 1, 1, 1, 6, 23, 1, 1, 1, 4, 2, 1, 6, 1, 6, 1, 11, 1, 3, 1, 4, 1, 5, 1, 2, 1, 1, 1, 1, 2, 1, 5, 1, 1, 7, 1, 1, 1, 1, 1, 1, 1, 1, 1, 1, 4, 1, 7, 3, 1, 10, 9, 1, 3, 1, 14, 14, 7, 1, 6, 1, 1, 4, 1, 3, 19, 1, 4, 1, 1, 1, 1, 1, 3, 1, 1, 1, 2, 1, 2, 1, 10, 4, 11, 1, 6, 1, 1, 1, 1, 9, 10, 1, 1, 3, 12, 6, 2, 1, 3, 1, 4, 6, 1, 1, 2, 3, 1, 3, 1, 1, 2, 2, 117, 4, 2, 25, 1, 1, 4, 1, 1, 5, 5, 15, 1, 1, 1, 1, 1, 1, 2, 16, 2, 2, 3, 3, 1, 1, 1, 2, 1, 1, 1, 17, 5, 2, 2, 2, 1, 3, 2, 1, 2, 3, 4, 1, 14, 1, 2, 5, 1, 3, 11, 2, 1, 1, 12, 1, 2, 4, 11, 3, 5, 1, 6, 4, 2, 3, 1, 2, 4, 2, 6, 1, 11, 7, 1, 2, 8, 4, 2, 3, 1, 2, 1, 2, 1, 6, 1, 2, 1, 1, 1, 10, 1, 6, 2, 1, 3, 2, 18, 6, 26, 1, 4, 2, 1, 4, 10, 1, 2, 3, 1, 10, 1, 6, 9, 5, 1, 6, 1, 2, 2, 9, 1, 4, 2, 2, 2, 1, 11, 1, 11, 3, 3, 1, 1, 1, 3, 1, 1, 2, 1, 3, 1, 1, 2, 1, 5, 5, 1, 1, 1, 1, 1, 1, 5, 5, 4, 2, 3, 2, 3, 1, 1, 1, 1, 1, 7, 8, 10, 1, 2, 4, 6, 2, 5, 1, 1, 1, 6, 1, 1, 1, 3, 1, 1, 1, 1, 1, 1, 1, 1, 1, 1, 3, 1, 2, 7, 26, 6, 1, 62, 3, 4, 2, 2, 1, 1, 9, 1, 1, 5, 2, 9, 1, 1, 1, 1, 1, 2, 12, 3, 2, 2, 7, 11, 1, 5, 1, 1, 1, 2, 1, 1, 2, 1, 6, 1, 1, 1, 1, 3, 1, 1, 2, 2, 1, 1, 2, 1, 1, 1, 4, 1, 1, 1, 3, 1, 1, 1, 1, 1, 1, 1, 3, 8, 3, 1, 3, 1, 3, 2, 7, 5, 4, 1, 1, 3, 12, 1, 1, 4, 9, 1, 3, 2, 1, 5, 1, 1, 1, 1, 1, 13, 1, 1, 8, 1, 1, 1, 1, 1, 1, 1, 1, 7, 1, 1, 1, 2, 2, 1, 2, 1, 1, 2, 5, 1, 1, 5, 1, 1, 1, 2, 1, 4, 1, 1, 1, 1, 1, 9, 2, 1, 2, 3, 1, 1, 5, 2, 15, 3, 4, 1, 1, 1, 10, 1, 1, 1, 2, 2, 5, 1, 2, 1, 1, 1, 1, 1, 3, 1, 2, 1, 1, 1, 1, 1, 1, 1, 1, 1, 6, 1, 6, 2, 2, 1, 1, 1, 2, 1, 1, 2, 1, 1, 4, 1, 1, 1, 1, 1, 1, 1, 2, 1, 1, 1, 1, 1, 2, 1, 1, 1, 1, 3, 3, 3, 1, 1, 5, 2, 1, 1, 2, 1, 1, 1, 11, 1, 1, 1, 1, 1, 2, 2, 3, 8, 5, 1, 5, 2, 2, 4, 1, 1, 3, 1, 1, 14, 1, 2, 2, 1, 2, 1, 9, 2, 1, 1, 1, 1, 3, 1, 1, 1, 1, 1, 1, 12, 4, 2, 6, 2, 1, 1, 5, 1, 3, 1, 1, 1, 2, 1, 3, 1, 4, 2, 1, 9, 4, 1, 6, 4, 8, 1, 1, 1, 1, 9, 2, 1, 1, 1, 3, 6, 1, 2, 7, 7, 5, 1, 1, 3, 4, 1, 1, 1, 1, 1, 1, 1, 1, 5, 1, 2, 2, 1, 23, 6, 1, 2, 1, 2, 5, 1, 1, 1, 2, 1, 2, 1, 1, 3, 18, 1, 5, 1, 3, 6, 2, 4, 11, 1, 2, 1, 2, 1, 1, 10, 1, 4, 2, 7, 1, 5, 18, 2, 1, 11, 5, 2, 2, 1, 6, 2, 4, 1, 2, 2, 1, 2, 1, 1, 2, 1, 1, 1, 4, 4, 2, 1, 1, 4, 9, 2, 1, 1, 2, 1, 2, 1, 1, 1, 2, 1, 1, 3, 1, 1, 5, 2, 1, 1, 1, 3, 2, 3, 1, 3, 2, 1, 1, 1, 21, 1, 5, 1, 2, 2, 3, 2, 1, 1, 3, 2, 2, 2, 1, 23, 9, 1, 2, 4, 3, 4, 2, 3, 2, 1, 1, 1, 1, 3, 4, 1, 3, 1, 1, 1, 1, 6, 1, 2, 1, 2, 6, 7, 2, 3, 1, 1, 1, 4, 5, 5, 1, 8, 1, 1, 1, 4, 1, 5, 21, 5, 1, 1, 1, 1, 4, 2, 2, 2, 1, 8, 1, 1, 1, 2, 1, 2, 1, 1, 2, 1, 1, 1, 7, 1, 2, 1, 1, 2, 1, 1, 10, 9, 1, 2, 5, 1, 1, 1, 1, 1, 2, 1, 5, 1, 1, 1, 1, 1, 15, 2, 4, 1, 2, 4, 1, 1, 1, 1, 4, 3, 1, 1, 4, 3, 1, 2, 1, 1, 1, 3, 2, 2, 1, 1, 2, 1, 1, 1, 1, 1, 8, 1, 2, 1, 2, 1, 1, 2, 1, 1, 4, 1, 4, 4, 1, 5, 4, 1, 1, 1, 3, 1, 1, 1, 1, 1, 4, 7, 1, 1, 5, 1, 1, 1, 1, 1, 1, 1, 3, 1, 1, 3, 1, 1, 4, 10, 4, 10, 2, 2, 4, 2, 4, 3, 1, 6, 10, 2, 10, 4, 1, 4, 2, 1, 1, 8, 1, 1, 1, 1, 1, 2, 2, 1, 1, 1, 1, 1, 1, 1, 2, 1, 1, 2, 3, 1, 1, 1, 1, 2, 5, 5, 2, 7, 1, 1, 1, 1, 1, 1, 1, 1, 1, 1, 2, 1, 1, 1, 4, 5, 3, 3, 8, 2, 1, 10, 1, 2, 1, 3, 2, 1, 1, 2, 1, 1, 6, 11, 1, 9, 1, 1, 1, 2, 1, 2, 1, 1, 2, 1, 2, 4, 2, 1, 1, 3, 1, 2, 1, 1, 1, 1, 5, 3, 1, 1, 1, 3, 2, 1, 1, 1, 1, 1, 1, 1, 3, 1, 5, 2, 3, 1, 1, 10, 1, 1, 2, 1, 9, 1, 1, 1, 1, 1, 1, 2, 1, 1, 1, 1, 1, 1, 12, 2, 1, 1, 7, 3, 4, 1, 5, 1, 12, 1, 6, 1, 2, 1, 1, 2, 3, 3, 5, 6, 1, 4, 3, 1, 1, 1, 1, 1, 1, 2, 4, 1, 1, 1, 1, 13, 14, 1, 2, 1, 3, 1, 2, 5, 1, 1, 2, 4, 2, 1, 1, 3, 2, 1, 3, 1, 1, 1, 1, 2, 1, 1, 1, 1, 1, 2, 2, 1, 1, 10, 1, 1, 1, 1, 1, 1, 2, 2, 2, 1, 6, 1, 3, 1, 2, 1, 1, 1, 1, 2, 1, 1, 1, 1, 1, 8, 1, 4, 3, 12, 17, 1, 2, 2, 2, 5, 5, 7, 1, 1, 3, 2, 1, 1, 1, 2, 1, 1, 1, 1, 1, 1, 1, 2, 1, 2, 1, 4, 1, 1, 1, 2, 1, 2, 1, 6, 2, 7, 1, 4, 1, 1, 2, 1, 1, 1, 4, 1, 1, 1, 1, 2, 2, 1, 1, 1, 1, 1, 5, 3, 2, 1, 1, 1, 1, 1, 1, 1, 1, 1, 1, 1, 1, 1, 1, 1, 1, 2, 1, 24, 1, 1, 1, 1, 1, 5, 1, 1, 3, 5, 1, 1, 1, 1, 2, 2, 1, 1, 1, 1, 1, 1, 1, 2, 1, 2, 1, 3, 2, 2, 2, 1, 1, 3, 1, 1, 2, 1, 2, 2, 3, 2, 1, 1, 1, 5, 1, 1, 1, 3, 3, 1, 2, 1, 1, 6, 1, 3, 2, 1, 1, 1, 1, 2, 4, 1, 7, 1, 5, 1, 2, 1, 1, 5, 2, 1, 1, 1, 1, 1, 1, 3, 1, 11, 4, 1, 2, 3, 3, 1, 4, 1, 4, 13, 2, 2, 1, 9, 1, 2, 1, 1, 1, 1, 1, 1, 3, 2, 1, 1, 1, 2, 1, 1, 1, 1, 1, 1, 2, 1, 1, 1, 1, 7, 3, 2, 1, 1, 1, 1, 1, 1, 1, 1, 1, 1, 1, 1, 5, 1, 1, 4, 1, 1, 7, 4, 1, 6, 1, 1, 1, 1, 1, 1, 1, 1, 1, 1, 1, 1, 1, 1, 1, 1, 1, 1, 1, 1, 1, 1, 1, 1, 2, 1, 1, 2, 2, 2, 1, 1, 3, 1, 1, 1, 1, 3, 1, 2, 2, 1, 1, 1, 2, 2, 2, 2, 2, 1, 1, 3, 2, 1, 1, 1, 1, 4, 5, 3, 2, 2, 1, 2, 1, 1, 1, 1, 1, 1, 1, 1, 3, 1, 1, 3, 1, 1, 1, 1, 1, 1, 1, 5, 1, 1, 4, 1, 1, 1, 2, 1, 1, 1, 1, 1, 1, 1, 1, 1, 2, 2, 1, 1, 4, 1, 1, 1, 1, 4, 2, 2, 1, 1, 1, 4, 1, 2, 1, 1, 1, 2, 1, 1, 5, 1, 1, 4, 1, 4, 3, 2, 3, 3, 1, 1, 1, 3, 1, 4, 1, 1, 4, 2, 1, 1, 1, 2, 2, 1, 1, 1, 2, 1, 3, 3, 1, 1, 3, 2, 2, 1, 1, 1, 1, 5, 3, 3, 5, 4, 1, 2, 3, 1, 2, 1, 2, 1, 11, 6, 1, 1, 1, 1, 1, 1, 2, 4, 2, 1, 1, 3, 3, 1, 1, 1, 4, 1, 1, 3, 1, 1, 1, 3, 1, 2, 1, 1, 1, 2, 1, 9, 1, 2, 1, 1, 1, 1, 1, 3, 2, 1, 1, 1, 1, 2, 2, 1, 1, 1, 1, 1, 1, 1, 1, 3, 3, 3, 2, 1, 1, 1, 1, 3, 1, 4, 2, 1, 3, 4, 1, 2, 2, 1, 11, 1, 2, 1, 4, 1, 5, 1, 1, 2, 2, 1, 2, 4, 2, 2, 4, 3, 2, 8, 1, 2, 1, 1, 1, 1, 1, 1, 3, 1, 1, 1, 1, 4, 2, 1, 1, 1, 1, 1, 1, 1, 3, 1, 1, 1, 1, 2, 1, 1, 3, 8, 2, 1, 9, 1, 2, 1, 3, 1, 2, 3, 2, 1, 2, 2, 1, 1, 1, 2, 2, 1, 2, 3, 1, 3, 1, 1, 1, 1, 1, 1, 2, 1, 1, 1, 1, 1, 2, 2, 1, 1, 1, 1, 1, 1, 1, 1, 2, 2, 2, 4, 2, 2, 1, 1, 2, 40, 1, 1, 1, 1, 2, 2, 1, 1, 1, 1, 1, 1, 1, 1, 1, 1, 1, 1, 1, 2, 1, 1, 1, 1, 1, 1, 5, 1, 2, 1, 1, 2, 1, 1, 1, 1, 1, 2, 1, 3, 1, 1, 1, 1, 1, 1, 3, 3, 10, 1, 1, 1, 4, 1, 3, 1, 1, 1, 1, 1, 3, 1, 2, 1, 1, 1, 1, 1, 1, 2, 1, 2, 3, 1, 1, 1, 2, 3, 1, 1, 1, 1, 1, 2, 1, 1, 1, 2, 2, 1, 2, 1, 2, 1, 1, 2, 1, 1, 2, 1, 2, 1, 1, 3, 4, 1, 1, 1, 3, 1, 1, 1, 1, 2, 1, 1, 1, 2, 3, 1, 1, 1, 9, 2, 2, 1, 6, 1, 3, 1, 1, 2, 11, 1, 1, 2, 1, 1, 2, 5, 2, 1, 1, 1, 1, 1, 2, 1, 1, 1, 1, 3, 3, 2, 1, 1, 3, 1, 3, 6, 14, 2, 4, 1, 3, 2, 1, 2, 6, 1, 2, 1, 8, 2, 1, 1, 1, 1, 2, 2, 1, 5, 2, 2, 4, 1, 1, 1, 1, 2, 1, 2, 2, 1, 2, 1, 1, 1, 1, 1, 1, 2, 1, 1, 3, 4, 1, 1, 1, 1, 3, 1, 3, 1, 1, 1, 1, 2, 2, 2, 1, 1, 3, 1, 4, 1, 2, 1, 1, 1, 2, 6, 1, 1, 1, 1, 1, 2, 4, 1, 1, 1, 1, 4, 2, 1, 1, 1, 1, 1, 1, 1, 2, 1, 1, 1, 1, 1, 2, 2, 1, 1, 2, 1, 1, 1, 1, 2, 1, 1, 1, 1, 2, 1, 1, 1, 1, 3, 1, 1, 1, 1, 1, 1, 2, 2, 2, 1, 2, 2, 1, 2, 2, 1, 1, 5, 1, 1, 1, 1, 1, 1, 1, 14, 1, 1, 1, 1, 2, 1, 3, 1, 1, 1, 1, 1, 1, 1, 7, 2, 1, 1, 1, 1, 1, 1, 1, 1, 2, 1, 1, 2, 1, 1, 1, 2, 1, 1, 5, 1, 5, 2, 12, 1, 2, 2, 1, 1, 1, 1, 1, 1, 1, 2, 1, 1, 1, 1, 1, 1, 2, 1, 1, 1, 4, 1, 1, 1, 2, 1, 1, 1, 1, 1, 1, 1, 1, 1, 1, 1, 2, 1, 2, 1, 1, 1, 3, 4, 2, 1, 1, 2, 2, 1, 1, 1, 1, 1, 2, 1, 2, 1, 1, 1, 1, 1, 1, 1, 1, 1, 2, 1, 1, 4, 2, 1, 4, 1, 1, 2, 1, 3, 1, 7, 1, 3, 1, 1, 1, 1, 1, 1, 1, 1, 2, 2, 1, 1, 1, 1, 3, 2, 1, 1, 1, 1, 2, 1, 2, 2, 1, 5, 2, 1, 1, 1, 1, 1, 1, 1, 2, 1, 1, 2, 2, 1, 1, 2, 1, 2, 1, 1, 2, 6, 1, 3, 1, 1, 2, 3, 1, 1, 1, 1, 1, 1, 1, 1, 1, 1, 2, 5, 1, 1, 1, 1, 1, 1, 1, 1, 1, 2, 1, 4, 2, 1, 1, 1, 5, 1, 2, 1, 1, 1, 1, 1, 2, 1, 1, 1, 1, 1, 1, 1, 1, 2, 1, 1, 1, 1, 2, 3, 1, 3, 1, 1, 1, 1, 1, 1, 1, 1, 4, 1, 1, 2, 1, 1, 1, 1, 2, 2, 2, 1, 1, 1, 1, 1, 2, 1, 4, 2, 2, 1, 2, 1, 1, 1, 1, 1, 2, 3, 1, 1, 1, 1, 1, 1, 1, 1, 1, 1, 3, 1, 1, 2, 1, 1, 1, 1, 2, 1, 2, 1, 2, 2, 1, 1, 1, 1, 1, 1, 4, 3, 1, 2, 2, 2, 1, 1, 1, 1, 1, 2, 1, 1, 1, 1, 2, 1, 2, 1, 1, 4, 1, 1, 1, 3, 1, 1, 1, 3, 13, 1, 1, 1, 1, 1, 1, 1, 1, 1, 1, 1, 3, 6, 1, 4, 1, 1, 1, 1, 1, 1, 1, 1, 1, 1, 1, 1, 1, 1, 2, 1, 1, 1, 1, 1, 1, 1, 1, 1, 1, 1, 1, 1, 1, 1, 2, 1, 1, 1, 1, 1, 1, 1, 2, 1, 1, 1, 2, 1, 1, 1, 2, 1, 3, 2, 2, 1, 1, 2, 1, 3, 1, 1, 5, 2, 1, 1, 1, 3, 1, 1, 2, 3, 2, 2, 1, 3, 1, 1, 1, 1, 1, 1, 1, 1, 2, 1, 2, 1, 3, 1, 1, 1, 1, 2, 3, 1, 1, 1, 1, 3, 2, 2, 3, 1, 1, 1, 1, 1, 1, 1, 1, 1, 2, 1, 1, 1, 1, 1, 1, 1, 1, 1, 1, 1, 1, 1, 2, 2, 2, 1, 1, 2, 1, 1, 1, 1, 1, 1, 1, 3, 1, 1, 1, 1, 2, 1, 1, 2, 1, 1, 1, 1, 1, 1, 1, 1, 1, 2, 1, 1, 1, 2, 1, 1, 1, 1, 1, 1, 1, 1, 3, 2, 3, 1, 1, 1, 1, 2, 1, 1, 1, 1, 1, 1, 1, 2, 1, 1, 1, 1, 1, 2, 3, 2, 7, 1, 1, 1, 1, 1, 1, 1, 1, 1, 1, 4, 1, 1, 1, 1, 2, 1, 2, 1, 1, 1, 1, 1, 1, 1, 1, 1, 1, 1, 1, 2, 3, 1, 1, 1, 1, 1, 1, 1, 1, 1, 1, 1, 1, 1, 1, 3, 3, 1, 1, 1, 1, 1, 1, 2, 1, 2, 1, 2, 1, 1, 1, 1, 1, 3, 1, 1, 1, 2, 3, 1, 3, 1, 2, 1, 1, 1, 1, 1, 3, 1, 1, 1, 1, 1, 1, 1, 1, 1, 1, 1, 1, 1, 1, 1, 1, 2, 1, 1, 2, 1, 1, 1, 1, 1, 1, 2, 1, 1, 1, 2, 1, 1, 3, 3, 1, 1, 1, 1, 1, 1, 1, 2, 1, 1, 1, 1, 1, 2, 1, 2, 1, 1, 1, 2, 1, 3, 1, 3, 1, 1, 1, 9, 1, 1, 1, 1, 1, 1, 2, 1, 2, 1, 1, 3, 1, 2, 3, 2, 1, 1, 1, 1, 1, 1, 1, 1, 1, 1, 1, 1, 1, 1, 1, 1, 1, 1, 1, 1, 4, 1, 1, 1, 2, 1, 1, 1, 2, 1, 1, 1, 1, 1, 1, 1, 1, 1, 2, 1, 1, 1, 1, 1, 1, 1, 3, 1, 1, 1, 1, 1, 1, 1, 1, 1, 5, 1, 1, 1, 1, 1, 5, 1, 1, 1, 2, 1, 1, 1, 1, 1, 1, 1, 1, 3, 1, 1, 1, 2, 1, 1, 1, 1, 1, 1, 1, 2, 1, 1, 1, 1, 1, 1, 1, 1, 1, 1, 2, 1, 2, 1, 1, 1, 1, 1, 1, 1, 1, 1, 1, 1, 1, 1, 1, 1, 1, 1, 2, 1, 1, 1, 1, 1, 1, 2, 2, 1, 1, 1, 1, 3, 1, 1, 1, 3, 1, 2, 1, 2, 1, 1, 1, 1, 1, 1, 2, 1, 1, 1, 1, 2, 1, 1, 1, 1, 1, 2, 1, 1, 1, 1, 2, 1, 1, 1, 1, 1, 7, 1, 1, 1, 1, 1, 1, 1, 2, 1, 1, 1, 1, 1, 1, 1, 1, 1, 1, 2, 2, 1, 1, 1, 1, 1, 1, 1, 2, 1, 2, 1, 1, 2, 2, 1, 1, 1, 1, 1, 1, 1, 1, 4, 1, 2, 1, 1, 1, 1, 1, 1, 1, 1, 1, 14, 1, 2, 1, 10, 1, 2, 1, 4, 1, 1, 1, 1, 1, 1, 2, 2, 1, 5, 1, 1, 1, 1, 1, 2, 1, 1, 1, 1, 1, 1, 1, 1, 1, 1, 1, 1, 1, 1, 1, 1, 1, 1, 1, 1, 1, 1, 1, 1, 1, 1, 1, 1, 1, 1, 1, 1, 1, 1, 2, 1, 1, 2, 1, 1, 2, 2, 1, 2, 1, 1, 1, 2, 1, 2, 2, 1, 2, 1, 1, 1, 1, 1, 1, 1, 1, 1, 1, 2, 1, 1, 1, 1, 1, 1, 1, 1, 1, 1, 1, 1, 1, 1, 1, 1, 1, 1, 1, 1, 1, 1, 1, 1, 4, 1, 1, 2, 4, 1, 1, 1, 1, 1, 1, 1, 1, 1, 1, 1, 1, 1, 1, 1, 1, 2, 1, 1, 1, 1, 1, 1, 1, 1, 1, 1, 2, 1, 1, 1, 1, 1, 1, 1, 1, 4, 1, 1, 1, 1, 1, 1, 1, 1, 2, 1, 1, 1, 1, 1, 4, 1, 1, 1, 7, 1, 5, 1, 1, 3, 2, 1, 1, 1, 2, 1, 1, 1, 2, 1, 1, 3, 4, 1, 1, 1, 1, 1, 1, 1, 2, 1, 1, 1, 1, 1, 3, 1, 1, 1, 1, 1, 1, 1, 1, 1, 1, 1, 2, 1, 4, 1, 1, 1, 1, 9, 1, 1, 1, 1, 1, 1, 1, 1, 1, 2, 1, 1, 1, 1, 1, 1, 1, 1, 1, 3, 1, 1, 2, 2, 1, 1, 1, 1, 1, 1, 1, 1, 1, 1, 1, 1, 1, 1, 1, 1, 1, 1, 2, 2, 1, 1, 2, 1, 1, 1, 1, 1, 1, 1, 1, 1, 1, 1, 1, 1, 1, 1, 1, 1, 1, 1, 1, 1, 1, 1, 2, 1, 1, 1, 1, 1, 1, 1, 1, 1, 1, 1, 2, 1, 1, 1, 1, 1, 1, 1, 1, 1, 1, 1, 1, 1, 1, 1, 1, 1, 1, 1, 1, 1, 1, 1, 1, 1, 1, 1, 1, 1, 1, 1, 1, 1, 1, 1, 1, 1, 1, 1, 1, 1, 1, 1, 1, 1, 1, 1, 7, 1, 1, 1, 1, 1, 1, 1, 1, 1, 1, 1, 3, 1, 1, 1, 1, 1, 1, 1, 1, 1, 1, 2, 1, 1, 3, 1, 1, 1, 1, 1, 1, 1, 1, 1, 1, 1, 1, 1, 1, 1, 1, 1, 1, 1, 1, 1, 1, 1, 2, 1, 1, 1, 1, 1, 1, 1, 1, 1, 1, 1, 1, 1, 1, 1, 1, 1, 1, 1, 1, 1, 1, 1, 1, 1, 1, 1, 1, 1, 1, 1, 1, 1, 1, 1, 1, 1, 1, 1, 1, 1, 1, 1, 1, 1, 1, 1, 1, 1, 1, 1, 2, 1, 1, 1, 1, 1, 1, 1, 1, 1, 1, 1, 1, 1, 2, 1, 1, 1, 1, 7, 2, 1, 2, 1, 2, 1, 1, 1, 1, 1, 1, 1, 2, 8, 13, 1, 1, 5, 1, 2, 2, 1, 1, 1, 7, 34, 1, 1, 4, 2, 2, 1, 7, 1, 1, 3, 1, 1, 2, 1, 1, 2, 1, 1, 1, 1, 1, 1, 1, 1, 1, 1, 1, 1, 1, 1, 1, 1, 4, 2, 1, 4, 1, 1, 6, 11, 1, 1, 2, 3, 1, 1, 1, 1, 1, 1, 1, 16, 1, 1, 1, 1, 6, 2, 1, 3, 9, 1, 10, 1, 1, 1, 1, 1, 1, 1, 1, 1, 1, 2, 1, 1, 10, 11, 15, 1, 1, 1, 1, 2, 3, 1, 1, 1, 1, 1, 2, 3, 2, 1, 2, 2, 1, 2, 3, 1, 1, 5, 1, 1, 2, 1, 1, 4, 6, 1, 1, 7, 3, 2, 1, 1, 1, 1, 2, 1, 1, 1, 1, 2, 1, 1, 1, 3, 1, 1, 1, 3, 1, 1, 1, 1, 1, 1, 1, 1, 1, 1, 1, 1, 1, 1, 1, 1, 1, 1, 1, 1, 1, 1, 1, 1, 4, 3, 1, 2, 1, 2, 1, 1, 3, 1, 2, 1, 1, 3, 1, 2, 1, 1, 1, 1, 1, 2, 1, 1, 1, 1, 1, 1, 1, 1, 1, 1, 2, 1, 1, 6, 1, 1, 1, 7, 1, 1, 2, 2, 2, 1, 4, 1, 1, 3, 1, 1, 1, 1, 1, 1, 1, 2, 1, 1, 1, 1, 1, 1, 1, 1, 3, 1, 1, 1, 1, 1, 1, 3, 1, 1, 5, 2, 1, 2, 3, 1, 2, 1, 1, 1, 1, 6, 1, 1, 1, 2, 2, 7, 13, 1, 1, 1, 1, 1, 1, 1, 1, 1, 2, 5, 1, 1, 1, 4, 5, 2, 1, 2, 1, 1, 1, 1, 1, 1, 3, 1, 1, 5, 2, 1, 1, 1, 1, 1, 1, 1, 3, 1, 1, 5, 1, 1, 1, 1, 1, 1, 1, 1, 3, 1, 1, 1, 1, 1, 1, 1, 1, 1, 2, 3, 3, 3, 3, 1, 1, 1, 1, 1, 2, 2, 1, 1, 1, 2, 1, 2, 1, 1, 1, 1, 1, 1, 1, 1, 1, 1, 1, 1, 1, 1, 1, 2, 4, 1, 1, 1, 1, 2, 1, 2, 1, 1, 1, 1, 1, 1, 1, 1, 1, 1, 1, 1, 1, 1, 1, 1, 1, 1, 3, 1, 1, 1, 1, 1, 1, 1, 1, 1, 1, 1, 1, 1, 1, 1, 1, 1, 1, 1, 1, 1, 1, 1, 1, 1, 1, 1, 1, 1, 1, 1, 1, 1, 1, 1, 1, 1, 1, 1, 1, 1, 1, 1, 1, 1, 1, 1, 1, 1, 1, 1, 1, 1, 1, 1, 1, 1, 1, 2, 1, 1, 1, 2, 1, 1, 1, 1, 1, 1, 1, 1, 1, 1, 1, 1, 1, 1, 1, 1, 1, 1, 3, 1, 2, 1, 1, 1, 1, 2, 2, 1, 1, 1, 1, 1, 1, 2, 1, 1, 1, 1, 1, 1, 1, 1, 1, 1, 1, 1, 1, 1, 2, 1, 1, 1, 1, 1, 1, 1, 1, 1, 1, 1, 1, 1, 1, 1, 1, 1, 2, 1, 1, 1, 1, 1, 1, 1, 1, 1, 1, 1, 1, 1, 1, 1, 1, 1, 1, 1, 2, 1, 1, 1, 1, 2, 1, 1, 1, 1, 1, 1, 1, 1, 1, 1, 1, 2, 1, 1, 1, 1, 1, 1, 1, 1, 1, 1, 1, 1, 1, 1, 1, 1, 1, 1, 1, 1, 1, 1, 1, 1, 1, 1, 1, 1, 1, 1, 1, 1, 1, 1, 1, 1, 1, 1, 1, 1, 1, 1, 1, 1, 1, 1])"
      ]
     },
     "execution_count": 25,
     "metadata": {},
     "output_type": "execute_result"
    }
   ],
   "source": [
    "counts"
   ]
  },
  {
   "cell_type": "code",
   "execution_count": 26,
   "metadata": {},
   "outputs": [
    {
     "data": {
      "text/plain": [
       "40776"
      ]
     },
     "execution_count": 26,
     "metadata": {},
     "output_type": "execute_result"
    }
   ],
   "source": [
    "sum(counts)"
   ]
  },
  {
   "cell_type": "code",
   "execution_count": 27,
   "metadata": {},
   "outputs": [
    {
     "name": "stdout",
     "output_type": "stream",
     "text": [
      "5118 40776\n",
      "7527 20311\n"
     ]
    }
   ],
   "source": [
    "#English edition of Romeo And Juliet\n",
    "\n",
    "text = read_book('books/English/shakespeare/Romeo and Juliet.txt')\n",
    "word_counts = count_words(text)\n",
    "(num_unique, counts) = word_stats(word_counts)\n",
    "print(num_unique, sum(counts))\n",
    "\n",
    "#German edition of Romeo And Juliet\n",
    "\n",
    "text = read_book('books/German/shakespeare/Romeo und Julia.txt')\n",
    "word_counts = count_words(text)\n",
    "(num_unique, counts) = word_stats(word_counts)\n",
    "print(num_unique, sum(counts))"
   ]
  },
  {
   "cell_type": "markdown",
   "metadata": {},
   "source": [
    "#### Computing Word Frequency Statistics: Question 1\n",
    "\n",
    "As defined in Video 3.2.4, which of the following does the function ```word_stats``` return?\n",
    "\n",
    "- The total number of words\n",
    "- **The number of unique words**\n",
    "- **A list of word counts**\n",
    "- A dictionary of word counts\n",
    "\n",
    "#### Computing Word Frequency Statistics: Question 2\n",
    "\n",
    "Which of the two versions of Romeo and Juliet from Project Gutenberg contains more unique words, the original or the German translation?\n",
    "\n",
    "- The original\n",
    "- **The German translation**\n",
    "- The two contain the same number of unique words"
   ]
  },
  {
   "cell_type": "markdown",
   "metadata": {},
   "source": [
    "# Reading Multiple Files\n"
   ]
  },
  {
   "cell_type": "code",
   "execution_count": 28,
   "metadata": {},
   "outputs": [],
   "source": [
    "import os"
   ]
  },
  {
   "cell_type": "code",
   "execution_count": 29,
   "metadata": {},
   "outputs": [],
   "source": [
    "book_dir = './books'\n"
   ]
  },
  {
   "cell_type": "code",
   "execution_count": 32,
   "metadata": {},
   "outputs": [
    {
     "data": {
      "text/plain": [
       "['German', 'English', 'Portuguese', 'French']"
      ]
     },
     "execution_count": 32,
     "metadata": {},
     "output_type": "execute_result"
    }
   ],
   "source": [
    "os.listdir(book_dir)\n"
   ]
  },
  {
   "cell_type": "code",
   "execution_count": 33,
   "metadata": {},
   "outputs": [
    {
     "name": "stdout",
     "output_type": "stream",
     "text": [
      "<class 'list'>\n"
     ]
    }
   ],
   "source": [
    "print(type(os.listdir(book_dir)))"
   ]
  },
  {
   "cell_type": "code",
   "execution_count": 34,
   "metadata": {},
   "outputs": [],
   "source": [
    "def count_words(text):\n",
    "    '''\n",
    "    Count the number of times each word occurs in text (str).\n",
    "    Return dictionary where keys are unique words and values are\n",
    "    word counts. Skips punctuation\n",
    "    '''\n",
    "    \n",
    "    #lower case letters\n",
    "    text = text.lower()\n",
    "    \n",
    "    #skip punctuation\n",
    "    skips = ['.', ',',':', ';', \"'\", '\"']\n",
    "    for ch in skips:\n",
    "        text = text.replace(ch, \"\")\n",
    "    \n",
    "    word_counts = {}\n",
    "    for word in text.split(\" \"):\n",
    "        #known word\n",
    "        if word in word_counts:\n",
    "            word_counts[word] +=1 \n",
    "        #unknown word\n",
    "        else:\n",
    "            word_counts[word] = 1\n",
    "    return word_counts"
   ]
  },
  {
   "cell_type": "code",
   "execution_count": 35,
   "metadata": {},
   "outputs": [],
   "source": [
    "def read_book(title_path):\n",
    "    '''\n",
    "    Read a book and retirn it as a string\n",
    "    '''\n",
    "    with open(title_path, 'r', encoding = 'UTF-8') as current_file:\n",
    "        text = current_file.read()\n",
    "        text = text.replace('\\n', '').replace('\\r', '')\n",
    "    return text"
   ]
  },
  {
   "cell_type": "code",
   "execution_count": 44,
   "metadata": {},
   "outputs": [],
   "source": [
    "def word_stats(word_counts):\n",
    "    '''\n",
    "    Return number of unique words and\n",
    "    word frequences\n",
    "    '''\n",
    "    num_unique = len(word_counts)\n",
    "    counts = word_counts.values()\n",
    "    return (num_unique, counts)"
   ]
  },
  {
   "cell_type": "code",
   "execution_count": 36,
   "metadata": {},
   "outputs": [
    {
     "name": "stdout",
     "output_type": "stream",
     "text": [
      "./books/German/schiller/Wallensteins Lager.txt\n",
      "./books/German/schiller/die braut von messina.txt\n",
      "./books/German/schiller/Der Parasit, oder die Kunst, sein GlÅck zu machen.txt\n",
      "./books/German/schiller/Die Verschwîrung des Fiesco zu Genua.txt\n",
      "./books/German/schiller/Kabale und Liebe.txt\n",
      "./books/German/schiller/Die Huldigung der KÅnste.txt\n",
      "./books/German/schiller/Der Neffe als Onkel.txt\n",
      "./books/German/schiller/Die Piccolomini.txt\n",
      "./books/German/schiller/Die Jungfrau von Orleans.txt\n",
      "./books/German/schiller/Turandot, Prinzessin von China.txt\n",
      "./books/German/schiller/Wallensteins Tod.txt\n",
      "./books/German/lessing/minna von barnhelm.txt\n",
      "./books/German/lessing/hamburgische dramaturgie.txt\n",
      "./books/German/lessing/miss sara sampson.txt\n",
      "./books/German/lessing/die juden.txt\n",
      "./books/German/lessing/der freigeist.txt\n",
      "./books/German/lessing/philotas.txt\n",
      "./books/German/lessing/der junge gelehrte.txt\n",
      "./books/German/lessing/emilia galotti.txt\n",
      "./books/German/raimund/Der Verschwender.txt\n",
      "./books/German/raimund/Die gefesselte Phantasie.txt\n",
      "./books/German/raimund/Moisasurs Zauberfluch.txt\n",
      "./books/German/raimund/Das MÑdchen aus der Feenwelt.txt\n",
      "./books/German/raimund/Der Barometermacher auf der Zauberinsel.txt\n",
      "./books/German/raimund/Der Diamant des Geisterkînigs.txt\n",
      "./books/German/raimund/Die unheilbringende Krone.txt\n",
      "./books/German/raimund/Der Alpenkînig und der Menschenfeind.txt\n",
      "./books/German/shakespeare/Othello.txt\n",
      "./books/German/shakespeare/Der Kaufmann von Venedig.txt\n",
      "./books/German/shakespeare/Ein Sommernachtstraum.txt\n",
      "./books/German/shakespeare/Richard III.txt\n",
      "./books/German/shakespeare/Macbeth.txt\n",
      "./books/German/shakespeare/Romeo und Julia.txt\n",
      "./books/German/shakespeare/Hamlet.txt\n",
      "./books/English/shakespeare/Othello.txt\n",
      "./books/English/shakespeare/Richard III.txt\n",
      "./books/English/shakespeare/The Merchant of Venice.txt\n",
      "./books/English/shakespeare/A Midsummer Night's Dream.txt\n",
      "./books/English/shakespeare/Macbeth.txt\n",
      "./books/English/shakespeare/Hamlet.txt\n",
      "./books/English/shakespeare/Romeo and Juliet.txt\n",
      "./books/Portuguese/branco/O Regicida.txt\n",
      "./books/Portuguese/branco/Amor de Salvação.txt\n",
      "./books/Portuguese/branco/Carlota Angela.txt\n",
      "./books/Portuguese/branco/Lagrimas Abenáoadas.txt\n",
      "./books/Portuguese/branco/O que fazem mulheres.txt\n",
      "./books/Portuguese/branco/Livro de Consolação.txt\n",
      "./books/Portuguese/branco/Amor de Perdição.txt\n",
      "./books/Portuguese/branco/A Filha do Arcediago.txt\n",
      "./books/Portuguese/branco/Annos de Prosa.txt\n",
      "./books/Portuguese/branco/Estrellas Prop°cias.txt\n",
      "./books/Portuguese/branco/O Olho de Vidro.txt\n",
      "./books/Portuguese/branco/A Neta do Arcediago.txt\n",
      "./books/Portuguese/branco/A Queda d'um Anjo.txt\n",
      "./books/Portuguese/branco/Scenas Contemporaneas.txt\n",
      "./books/Portuguese/branco/Agulha em Palheiro.txt\n",
      "./books/Portuguese/branco/Estrellas Funestas.txt\n",
      "./books/Portuguese/shakespeare/Hamlet.txt\n",
      "./books/Portuguese/Queir¢s/A Cidade e as Serras.txt\n",
      "./books/Portuguese/Queir¢s/A Illustre Casa de Ramires.txt\n",
      "./books/Portuguese/Queir¢s/O Primo Bazilio.txt\n",
      "./books/Portuguese/Queir¢s/Os Maias.txt\n",
      "./books/Portuguese/Queir¢s/O Mandarim.txt\n",
      "./books/Portuguese/Queir¢s/O crime do padre Amaro.txt\n",
      "./books/Portuguese/Queir¢s/Cartas de Inglaterra.txt\n",
      "./books/Portuguese/Queir¢s/A Rel°quia.txt\n",
      "./books/Portuguese/Queir¢s/A correspondància de Fradique Mendes.txt\n",
      "./books/Portuguese/dinis/A Morgadinha dos Cannaviaes.txt\n",
      "./books/Portuguese/dinis/Uma fam°lia ingleza.txt\n",
      "./books/Portuguese/dinis/Os fidalgos da Casa Mourisca.txt\n",
      "./books/French/de Maupassant/Œuvres complètes de Guy de Maupassant.txt\n",
      "./books/French/de Maupassant/La Main Gauche.txt\n",
      "./books/French/de Maupassant/Contes de la Becasse.txt\n",
      "./books/French/de Maupassant/Claire de Lune.txt\n",
      "./books/French/de Maupassant/La petite roque.txt\n",
      "./books/French/de Maupassant/Le Horla.txt\n",
      "./books/French/de Maupassant/L'inutile beautÇ.txt\n",
      "./books/French/de Maupassant/Boule de Suif.txt\n",
      "./books/French/de Maupassant/La Maison Tellier.txt\n",
      "./books/French/diderot/L'oiseau blanc.txt\n",
      "./books/French/diderot/Les deux amis de Bourbonne.txt\n",
      "./books/French/diderot/Regrets sur ma vieille robe de chambre.txt\n",
      "./books/French/diderot/Ceci n'est pas un conte.txt\n",
      "./books/French/diderot/Entretien d'un päre avec ses enfants.txt\n",
      "./books/French/chevalier/La fille des indiens rouges.txt\n",
      "./books/French/chevalier/Les derniers Iroquois.txt\n",
      "./books/French/chevalier/La capitaine.txt\n",
      "./books/French/chevalier/Le chasseur noir.txt\n",
      "./books/French/chevalier/L'enfer et le paradis de l'autre monde.txt\n",
      "./books/French/chevalier/L'åle de sable.txt\n",
      "./books/French/chevalier/La fille du pirate.txt\n",
      "./books/French/sand/Le poâme de Myrza.txt\n",
      "./books/French/sand/La Coupe; Lupo Liverani; Le Toast; Garnier; Le Contrebandier; La Ràverie Ö Paris.txt\n",
      "./books/French/sand/Le Piccinino.txt\n",
      "./books/French/sand/Jacques le fataliste et son maåtre.txt\n",
      "./books/French/sand/Pauline.txt\n",
      "./books/French/sand/cora.txt\n",
      "./books/French/sand/La Marquise.txt\n",
      "./books/French/sand/L' Orco.txt\n",
      "./books/French/sand/Mattea.txt\n",
      "./books/French/sand/Metella.txt\n",
      "./books/French/sand/Oeuvres illustrÇes de George Sand.txt\n"
     ]
    }
   ],
   "source": [
    "for language in os.listdir(book_dir):\n",
    "    for author in os.listdir(book_dir + \"/\" + language):\n",
    "        for title in os.listdir(book_dir + \"/\" + language + '/' + author):\n",
    "            inputfile = book_dir + '/' + language + '/' + author + '/' + title\n",
    "            print(inputfile)\n",
    "            text = read_book(inputfile)\n",
    "            (num_unique, counts) = word_stats(count_words(text))"
   ]
  },
  {
   "cell_type": "markdown",
   "metadata": {},
   "source": [
    "# Plotting Book Statistics\n"
   ]
  },
  {
   "cell_type": "code",
   "execution_count": 37,
   "metadata": {},
   "outputs": [],
   "source": [
    "import os\n",
    "import pandas as pd\n",
    "import matplotlib.pyplot as plt"
   ]
  },
  {
   "cell_type": "code",
   "execution_count": 38,
   "metadata": {},
   "outputs": [],
   "source": [
    "def count_words(text):\n",
    "    '''\n",
    "    Count the number of times each word occurs in text (str).\n",
    "    Return dictionary where keys are unique words and values are\n",
    "    word counts. Skips punctuation\n",
    "    '''\n",
    "    \n",
    "    #lower case letters\n",
    "    text = text.lower()\n",
    "    \n",
    "    #skip punctuation\n",
    "    skips = ['.', ',',':', ';', \"'\", '\"']\n",
    "    for ch in skips:\n",
    "        text = text.replace(ch, \"\")\n",
    "    \n",
    "    word_counts = {}\n",
    "    for word in text.split(\" \"):\n",
    "        #known word\n",
    "        if word in word_counts:\n",
    "            word_counts[word] +=1 \n",
    "        #unknown word\n",
    "        else:\n",
    "            word_counts[word] = 1\n",
    "    return word_counts\n",
    "\n",
    "def read_book(title_path):\n",
    "    '''\n",
    "    Read a book and retirn it as a string\n",
    "    '''\n",
    "    with open(title_path, 'r', encoding = 'UTF-8') as current_file:\n",
    "        text = current_file.read()\n",
    "        text = text.replace('\\n', '').replace('\\r', '')\n",
    "    return text\n",
    "\n",
    "def word_stats(word_counts):\n",
    "    '''\n",
    "    Return number of unique words and\n",
    "    word frequences\n",
    "    '''\n",
    "    num_unique = len(word_counts)\n",
    "    counts = word_counts.values()\n",
    "    return (num_unique, counts)"
   ]
  },
  {
   "cell_type": "code",
   "execution_count": 39,
   "metadata": {},
   "outputs": [],
   "source": [
    "book_dir = './books'\n",
    "os.listdir(book_dir)\n",
    "stats = pd.DataFrame(columns = ('Language', 'Author', 'Title', 'Length', 'Unique' ))\n",
    "title_num = 1"
   ]
  },
  {
   "cell_type": "code",
   "execution_count": 40,
   "metadata": {},
   "outputs": [
    {
     "name": "stdout",
     "output_type": "stream",
     "text": [
      "./books/German/schiller/Wallensteins Lager.txt\n",
      "./books/German/schiller/die braut von messina.txt\n",
      "./books/German/schiller/Der Parasit, oder die Kunst, sein GlÅck zu machen.txt\n",
      "./books/German/schiller/Die Verschwîrung des Fiesco zu Genua.txt\n",
      "./books/German/schiller/Kabale und Liebe.txt\n",
      "./books/German/schiller/Die Huldigung der KÅnste.txt\n",
      "./books/German/schiller/Der Neffe als Onkel.txt\n",
      "./books/German/schiller/Die Piccolomini.txt\n",
      "./books/German/schiller/Die Jungfrau von Orleans.txt\n",
      "./books/German/schiller/Turandot, Prinzessin von China.txt\n",
      "./books/German/schiller/Wallensteins Tod.txt\n",
      "./books/German/lessing/minna von barnhelm.txt\n",
      "./books/German/lessing/hamburgische dramaturgie.txt\n",
      "./books/German/lessing/miss sara sampson.txt\n",
      "./books/German/lessing/die juden.txt\n",
      "./books/German/lessing/der freigeist.txt\n",
      "./books/German/lessing/philotas.txt\n",
      "./books/German/lessing/der junge gelehrte.txt\n",
      "./books/German/lessing/emilia galotti.txt\n",
      "./books/German/raimund/Der Verschwender.txt\n",
      "./books/German/raimund/Die gefesselte Phantasie.txt\n",
      "./books/German/raimund/Moisasurs Zauberfluch.txt\n",
      "./books/German/raimund/Das MÑdchen aus der Feenwelt.txt\n",
      "./books/German/raimund/Der Barometermacher auf der Zauberinsel.txt\n",
      "./books/German/raimund/Der Diamant des Geisterkînigs.txt\n",
      "./books/German/raimund/Die unheilbringende Krone.txt\n",
      "./books/German/raimund/Der Alpenkînig und der Menschenfeind.txt\n",
      "./books/German/shakespeare/Othello.txt\n",
      "./books/German/shakespeare/Der Kaufmann von Venedig.txt\n",
      "./books/German/shakespeare/Ein Sommernachtstraum.txt\n",
      "./books/German/shakespeare/Richard III.txt\n",
      "./books/German/shakespeare/Macbeth.txt\n",
      "./books/German/shakespeare/Romeo und Julia.txt\n",
      "./books/German/shakespeare/Hamlet.txt\n",
      "./books/English/shakespeare/Othello.txt\n",
      "./books/English/shakespeare/Richard III.txt\n",
      "./books/English/shakespeare/The Merchant of Venice.txt\n",
      "./books/English/shakespeare/A Midsummer Night's Dream.txt\n",
      "./books/English/shakespeare/Macbeth.txt\n",
      "./books/English/shakespeare/Hamlet.txt\n",
      "./books/English/shakespeare/Romeo and Juliet.txt\n",
      "./books/Portuguese/branco/O Regicida.txt\n",
      "./books/Portuguese/branco/Amor de Salvação.txt\n",
      "./books/Portuguese/branco/Carlota Angela.txt\n",
      "./books/Portuguese/branco/Lagrimas Abenáoadas.txt\n",
      "./books/Portuguese/branco/O que fazem mulheres.txt\n",
      "./books/Portuguese/branco/Livro de Consolação.txt\n",
      "./books/Portuguese/branco/Amor de Perdição.txt\n",
      "./books/Portuguese/branco/A Filha do Arcediago.txt\n",
      "./books/Portuguese/branco/Annos de Prosa.txt\n",
      "./books/Portuguese/branco/Estrellas Prop°cias.txt\n",
      "./books/Portuguese/branco/O Olho de Vidro.txt\n",
      "./books/Portuguese/branco/A Neta do Arcediago.txt\n",
      "./books/Portuguese/branco/A Queda d'um Anjo.txt\n",
      "./books/Portuguese/branco/Scenas Contemporaneas.txt\n",
      "./books/Portuguese/branco/Agulha em Palheiro.txt\n",
      "./books/Portuguese/branco/Estrellas Funestas.txt\n",
      "./books/Portuguese/shakespeare/Hamlet.txt\n",
      "./books/Portuguese/Queir¢s/A Cidade e as Serras.txt\n",
      "./books/Portuguese/Queir¢s/A Illustre Casa de Ramires.txt\n",
      "./books/Portuguese/Queir¢s/O Primo Bazilio.txt\n",
      "./books/Portuguese/Queir¢s/Os Maias.txt\n",
      "./books/Portuguese/Queir¢s/O Mandarim.txt\n",
      "./books/Portuguese/Queir¢s/O crime do padre Amaro.txt\n",
      "./books/Portuguese/Queir¢s/Cartas de Inglaterra.txt\n",
      "./books/Portuguese/Queir¢s/A Rel°quia.txt\n",
      "./books/Portuguese/Queir¢s/A correspondància de Fradique Mendes.txt\n",
      "./books/Portuguese/dinis/A Morgadinha dos Cannaviaes.txt\n",
      "./books/Portuguese/dinis/Uma fam°lia ingleza.txt\n",
      "./books/Portuguese/dinis/Os fidalgos da Casa Mourisca.txt\n",
      "./books/French/de Maupassant/Œuvres complètes de Guy de Maupassant.txt\n",
      "./books/French/de Maupassant/La Main Gauche.txt\n",
      "./books/French/de Maupassant/Contes de la Becasse.txt\n",
      "./books/French/de Maupassant/Claire de Lune.txt\n",
      "./books/French/de Maupassant/La petite roque.txt\n",
      "./books/French/de Maupassant/Le Horla.txt\n",
      "./books/French/de Maupassant/L'inutile beautÇ.txt\n",
      "./books/French/de Maupassant/Boule de Suif.txt\n",
      "./books/French/de Maupassant/La Maison Tellier.txt\n",
      "./books/French/diderot/L'oiseau blanc.txt\n",
      "./books/French/diderot/Les deux amis de Bourbonne.txt\n",
      "./books/French/diderot/Regrets sur ma vieille robe de chambre.txt\n",
      "./books/French/diderot/Ceci n'est pas un conte.txt\n",
      "./books/French/diderot/Entretien d'un päre avec ses enfants.txt\n",
      "./books/French/chevalier/La fille des indiens rouges.txt\n",
      "./books/French/chevalier/Les derniers Iroquois.txt\n",
      "./books/French/chevalier/La capitaine.txt\n",
      "./books/French/chevalier/Le chasseur noir.txt\n",
      "./books/French/chevalier/L'enfer et le paradis de l'autre monde.txt\n",
      "./books/French/chevalier/L'åle de sable.txt\n",
      "./books/French/chevalier/La fille du pirate.txt\n",
      "./books/French/sand/Le poâme de Myrza.txt\n",
      "./books/French/sand/La Coupe; Lupo Liverani; Le Toast; Garnier; Le Contrebandier; La Ràverie Ö Paris.txt\n",
      "./books/French/sand/Le Piccinino.txt\n",
      "./books/French/sand/Jacques le fataliste et son maåtre.txt\n",
      "./books/French/sand/Pauline.txt\n",
      "./books/French/sand/cora.txt\n",
      "./books/French/sand/La Marquise.txt\n",
      "./books/French/sand/L' Orco.txt\n",
      "./books/French/sand/Mattea.txt\n",
      "./books/French/sand/Metella.txt\n",
      "./books/French/sand/Oeuvres illustrÇes de George Sand.txt\n"
     ]
    }
   ],
   "source": [
    "for language in os.listdir(book_dir):\n",
    "    for author in os.listdir(book_dir + \"/\" + language):\n",
    "        for title in os.listdir(book_dir + \"/\" + language + '/' + author):\n",
    "            inputfile = book_dir + '/' + language + '/' + author + '/' + title\n",
    "            print(inputfile)\n",
    "            text = read_book(inputfile)\n",
    "            (num_unique, counts) = word_stats(count_words(text))\n",
    "            stats.loc[title_num] = language, author, title, sum(counts), num_unique\n",
    "            title_num += 1"
   ]
  },
  {
   "cell_type": "code",
   "execution_count": 41,
   "metadata": {},
   "outputs": [
    {
     "data": {
      "text/plain": [
       "1      15443\n",
       "2      26482\n",
       "3      20450\n",
       "4      31128\n",
       "5      30929\n",
       "       ...  \n",
       "98     14716\n",
       "99      8748\n",
       "100    21089\n",
       "101    19600\n",
       "102    23210\n",
       "Name: Length, Length: 102, dtype: object"
      ]
     },
     "execution_count": 41,
     "metadata": {},
     "output_type": "execute_result"
    }
   ],
   "source": [
    "stats.Length"
   ]
  },
  {
   "cell_type": "code",
   "execution_count": 42,
   "metadata": {},
   "outputs": [
    {
     "data": {
      "text/plain": [
       "1       4379\n",
       "2       6655\n",
       "3       6159\n",
       "4      10371\n",
       "5       9969\n",
       "       ...  \n",
       "98      4786\n",
       "99      3162\n",
       "100     6429\n",
       "101     5715\n",
       "102     7503\n",
       "Name: Unique, Length: 102, dtype: object"
      ]
     },
     "execution_count": 42,
     "metadata": {},
     "output_type": "execute_result"
    }
   ],
   "source": [
    "stats.Unique"
   ]
  },
  {
   "cell_type": "code",
   "execution_count": 43,
   "metadata": {},
   "outputs": [
    {
     "data": {
      "image/png": "[encoded data removed]",
      "text/plain": [
       "<Figure size 432x288 with 1 Axes>"
      ]
     },
     "metadata": {
      "needs_background": "light"
     },
     "output_type": "display_data"
    }
   ],
   "source": [
    "plt.plot(stats.Length, stats.Unique, 'bo')\n",
    "plt.show()"
   ]
  },
  {
   "cell_type": "code",
   "execution_count": 44,
   "metadata": {},
   "outputs": [
    {
     "data": {
      "image/png": "[encoded data removed]",
      "text/plain": [
       "<Figure size 432x288 with 1 Axes>"
      ]
     },
     "metadata": {
      "needs_background": "light"
     },
     "output_type": "display_data"
    }
   ],
   "source": [
    "plt.loglog(stats.Length, stats.Unique, 'bo')\n",
    "plt.show()"
   ]
  },
  {
   "cell_type": "code",
   "execution_count": 45,
   "metadata": {},
   "outputs": [
    {
     "data": {
      "text/html": [
       "<div>\n",
       "<style scoped>\n",
       "    .dataframe tbody tr th:only-of-type {\n",
       "        vertical-align: middle;\n",
       "    }\n",
       "\n",
       "    .dataframe tbody tr th {\n",
       "        vertical-align: top;\n",
       "    }\n",
       "\n",
       "    .dataframe thead th {\n",
       "        text-align: right;\n",
       "    }\n",
       "</style>\n",
       "<table border=\"1\" class=\"dataframe\">\n",
       "  <thead>\n",
       "    <tr style=\"text-align: right;\">\n",
       "      <th></th>\n",
       "      <th>Language</th>\n",
       "      <th>Author</th>\n",
       "      <th>Title</th>\n",
       "      <th>Length</th>\n",
       "      <th>Unique</th>\n",
       "    </tr>\n",
       "  </thead>\n",
       "  <tbody>\n",
       "    <tr>\n",
       "      <th>35</th>\n",
       "      <td>English</td>\n",
       "      <td>shakespeare</td>\n",
       "      <td>Othello.txt</td>\n",
       "      <td>26590</td>\n",
       "      <td>5898</td>\n",
       "    </tr>\n",
       "    <tr>\n",
       "      <th>36</th>\n",
       "      <td>English</td>\n",
       "      <td>shakespeare</td>\n",
       "      <td>Richard III.txt</td>\n",
       "      <td>48315</td>\n",
       "      <td>5449</td>\n",
       "    </tr>\n",
       "    <tr>\n",
       "      <th>37</th>\n",
       "      <td>English</td>\n",
       "      <td>shakespeare</td>\n",
       "      <td>The Merchant of Venice.txt</td>\n",
       "      <td>20949</td>\n",
       "      <td>4978</td>\n",
       "    </tr>\n",
       "    <tr>\n",
       "      <th>38</th>\n",
       "      <td>English</td>\n",
       "      <td>shakespeare</td>\n",
       "      <td>A Midsummer Night's Dream.txt</td>\n",
       "      <td>16103</td>\n",
       "      <td>4345</td>\n",
       "    </tr>\n",
       "    <tr>\n",
       "      <th>39</th>\n",
       "      <td>English</td>\n",
       "      <td>shakespeare</td>\n",
       "      <td>Macbeth.txt</td>\n",
       "      <td>16874</td>\n",
       "      <td>4780</td>\n",
       "    </tr>\n",
       "    <tr>\n",
       "      <th>40</th>\n",
       "      <td>English</td>\n",
       "      <td>shakespeare</td>\n",
       "      <td>Hamlet.txt</td>\n",
       "      <td>28551</td>\n",
       "      <td>6776</td>\n",
       "    </tr>\n",
       "    <tr>\n",
       "      <th>41</th>\n",
       "      <td>English</td>\n",
       "      <td>shakespeare</td>\n",
       "      <td>Romeo and Juliet.txt</td>\n",
       "      <td>40776</td>\n",
       "      <td>5118</td>\n",
       "    </tr>\n",
       "  </tbody>\n",
       "</table>\n",
       "</div>"
      ],
      "text/plain": [
       "   Language       Author                          Title Length Unique\n",
       "35  English  shakespeare                    Othello.txt  26590   5898\n",
       "36  English  shakespeare                Richard III.txt  48315   5449\n",
       "37  English  shakespeare     The Merchant of Venice.txt  20949   4978\n",
       "38  English  shakespeare  A Midsummer Night's Dream.txt  16103   4345\n",
       "39  English  shakespeare                    Macbeth.txt  16874   4780\n",
       "40  English  shakespeare                     Hamlet.txt  28551   6776\n",
       "41  English  shakespeare           Romeo and Juliet.txt  40776   5118"
      ]
     },
     "execution_count": 45,
     "metadata": {},
     "output_type": "execute_result"
    }
   ],
   "source": [
    "stats[stats.Language == 'English']"
   ]
  },
  {
   "cell_type": "code",
   "execution_count": 46,
   "metadata": {},
   "outputs": [
    {
     "data": {
      "text/html": [
       "<div>\n",
       "<style scoped>\n",
       "    .dataframe tbody tr th:only-of-type {\n",
       "        vertical-align: middle;\n",
       "    }\n",
       "\n",
       "    .dataframe tbody tr th {\n",
       "        vertical-align: top;\n",
       "    }\n",
       "\n",
       "    .dataframe thead th {\n",
       "        text-align: right;\n",
       "    }\n",
       "</style>\n",
       "<table border=\"1\" class=\"dataframe\">\n",
       "  <thead>\n",
       "    <tr style=\"text-align: right;\">\n",
       "      <th></th>\n",
       "      <th>Language</th>\n",
       "      <th>Author</th>\n",
       "      <th>Title</th>\n",
       "      <th>Length</th>\n",
       "      <th>Unique</th>\n",
       "    </tr>\n",
       "  </thead>\n",
       "  <tbody>\n",
       "    <tr>\n",
       "      <th>71</th>\n",
       "      <td>French</td>\n",
       "      <td>de Maupassant</td>\n",
       "      <td>Œuvres complètes de Guy de Maupassant.txt</td>\n",
       "      <td>54772</td>\n",
       "      <td>15028</td>\n",
       "    </tr>\n",
       "    <tr>\n",
       "      <th>72</th>\n",
       "      <td>French</td>\n",
       "      <td>de Maupassant</td>\n",
       "      <td>La Main Gauche.txt</td>\n",
       "      <td>33481</td>\n",
       "      <td>9983</td>\n",
       "    </tr>\n",
       "    <tr>\n",
       "      <th>73</th>\n",
       "      <td>French</td>\n",
       "      <td>de Maupassant</td>\n",
       "      <td>Contes de la Becasse.txt</td>\n",
       "      <td>34723</td>\n",
       "      <td>10210</td>\n",
       "    </tr>\n",
       "    <tr>\n",
       "      <th>74</th>\n",
       "      <td>French</td>\n",
       "      <td>de Maupassant</td>\n",
       "      <td>Claire de Lune.txt</td>\n",
       "      <td>25975</td>\n",
       "      <td>8076</td>\n",
       "    </tr>\n",
       "    <tr>\n",
       "      <th>75</th>\n",
       "      <td>French</td>\n",
       "      <td>de Maupassant</td>\n",
       "      <td>La petite roque.txt</td>\n",
       "      <td>40688</td>\n",
       "      <td>10890</td>\n",
       "    </tr>\n",
       "    <tr>\n",
       "      <th>76</th>\n",
       "      <td>French</td>\n",
       "      <td>de Maupassant</td>\n",
       "      <td>Le Horla.txt</td>\n",
       "      <td>41485</td>\n",
       "      <td>11091</td>\n",
       "    </tr>\n",
       "    <tr>\n",
       "      <th>77</th>\n",
       "      <td>French</td>\n",
       "      <td>de Maupassant</td>\n",
       "      <td>L'inutile beautÇ.txt</td>\n",
       "      <td>37840</td>\n",
       "      <td>10781</td>\n",
       "    </tr>\n",
       "    <tr>\n",
       "      <th>78</th>\n",
       "      <td>French</td>\n",
       "      <td>de Maupassant</td>\n",
       "      <td>Boule de Suif.txt</td>\n",
       "      <td>35905</td>\n",
       "      <td>10725</td>\n",
       "    </tr>\n",
       "    <tr>\n",
       "      <th>79</th>\n",
       "      <td>French</td>\n",
       "      <td>de Maupassant</td>\n",
       "      <td>La Maison Tellier.txt</td>\n",
       "      <td>43685</td>\n",
       "      <td>12305</td>\n",
       "    </tr>\n",
       "    <tr>\n",
       "      <th>80</th>\n",
       "      <td>French</td>\n",
       "      <td>diderot</td>\n",
       "      <td>L'oiseau blanc.txt</td>\n",
       "      <td>21973</td>\n",
       "      <td>6337</td>\n",
       "    </tr>\n",
       "    <tr>\n",
       "      <th>81</th>\n",
       "      <td>French</td>\n",
       "      <td>diderot</td>\n",
       "      <td>Les deux amis de Bourbonne.txt</td>\n",
       "      <td>8510</td>\n",
       "      <td>2929</td>\n",
       "    </tr>\n",
       "    <tr>\n",
       "      <th>82</th>\n",
       "      <td>French</td>\n",
       "      <td>diderot</td>\n",
       "      <td>Regrets sur ma vieille robe de chambre.txt</td>\n",
       "      <td>4980</td>\n",
       "      <td>1876</td>\n",
       "    </tr>\n",
       "    <tr>\n",
       "      <th>83</th>\n",
       "      <td>French</td>\n",
       "      <td>diderot</td>\n",
       "      <td>Ceci n'est pas un conte.txt</td>\n",
       "      <td>10938</td>\n",
       "      <td>3674</td>\n",
       "    </tr>\n",
       "    <tr>\n",
       "      <th>84</th>\n",
       "      <td>French</td>\n",
       "      <td>diderot</td>\n",
       "      <td>Entretien d'un päre avec ses enfants.txt</td>\n",
       "      <td>11125</td>\n",
       "      <td>3720</td>\n",
       "    </tr>\n",
       "    <tr>\n",
       "      <th>85</th>\n",
       "      <td>French</td>\n",
       "      <td>chevalier</td>\n",
       "      <td>La fille des indiens rouges.txt</td>\n",
       "      <td>66621</td>\n",
       "      <td>17875</td>\n",
       "    </tr>\n",
       "    <tr>\n",
       "      <th>86</th>\n",
       "      <td>French</td>\n",
       "      <td>chevalier</td>\n",
       "      <td>Les derniers Iroquois.txt</td>\n",
       "      <td>55565</td>\n",
       "      <td>15583</td>\n",
       "    </tr>\n",
       "    <tr>\n",
       "      <th>87</th>\n",
       "      <td>French</td>\n",
       "      <td>chevalier</td>\n",
       "      <td>La capitaine.txt</td>\n",
       "      <td>46306</td>\n",
       "      <td>13083</td>\n",
       "    </tr>\n",
       "    <tr>\n",
       "      <th>88</th>\n",
       "      <td>French</td>\n",
       "      <td>chevalier</td>\n",
       "      <td>Le chasseur noir.txt</td>\n",
       "      <td>51341</td>\n",
       "      <td>12945</td>\n",
       "    </tr>\n",
       "    <tr>\n",
       "      <th>89</th>\n",
       "      <td>French</td>\n",
       "      <td>chevalier</td>\n",
       "      <td>L'enfer et le paradis de l'autre monde.txt</td>\n",
       "      <td>40827</td>\n",
       "      <td>10831</td>\n",
       "    </tr>\n",
       "    <tr>\n",
       "      <th>90</th>\n",
       "      <td>French</td>\n",
       "      <td>chevalier</td>\n",
       "      <td>L'åle de sable.txt</td>\n",
       "      <td>73801</td>\n",
       "      <td>18989</td>\n",
       "    </tr>\n",
       "    <tr>\n",
       "      <th>91</th>\n",
       "      <td>French</td>\n",
       "      <td>chevalier</td>\n",
       "      <td>La fille du pirate.txt</td>\n",
       "      <td>52519</td>\n",
       "      <td>14649</td>\n",
       "    </tr>\n",
       "    <tr>\n",
       "      <th>92</th>\n",
       "      <td>French</td>\n",
       "      <td>sand</td>\n",
       "      <td>Le poâme de Myrza.txt</td>\n",
       "      <td>12771</td>\n",
       "      <td>4348</td>\n",
       "    </tr>\n",
       "    <tr>\n",
       "      <th>93</th>\n",
       "      <td>French</td>\n",
       "      <td>sand</td>\n",
       "      <td>La Coupe; Lupo Liverani; Le Toast; Garnier; Le...</td>\n",
       "      <td>47831</td>\n",
       "      <td>12540</td>\n",
       "    </tr>\n",
       "    <tr>\n",
       "      <th>94</th>\n",
       "      <td>French</td>\n",
       "      <td>sand</td>\n",
       "      <td>Le Piccinino.txt</td>\n",
       "      <td>151405</td>\n",
       "      <td>27435</td>\n",
       "    </tr>\n",
       "    <tr>\n",
       "      <th>95</th>\n",
       "      <td>French</td>\n",
       "      <td>sand</td>\n",
       "      <td>Jacques le fataliste et son maåtre.txt</td>\n",
       "      <td>85756</td>\n",
       "      <td>18744</td>\n",
       "    </tr>\n",
       "    <tr>\n",
       "      <th>96</th>\n",
       "      <td>French</td>\n",
       "      <td>sand</td>\n",
       "      <td>Pauline.txt</td>\n",
       "      <td>27486</td>\n",
       "      <td>7901</td>\n",
       "    </tr>\n",
       "    <tr>\n",
       "      <th>97</th>\n",
       "      <td>French</td>\n",
       "      <td>sand</td>\n",
       "      <td>cora.txt</td>\n",
       "      <td>12370</td>\n",
       "      <td>4370</td>\n",
       "    </tr>\n",
       "    <tr>\n",
       "      <th>98</th>\n",
       "      <td>French</td>\n",
       "      <td>sand</td>\n",
       "      <td>La Marquise.txt</td>\n",
       "      <td>14716</td>\n",
       "      <td>4786</td>\n",
       "    </tr>\n",
       "    <tr>\n",
       "      <th>99</th>\n",
       "      <td>French</td>\n",
       "      <td>sand</td>\n",
       "      <td>L' Orco.txt</td>\n",
       "      <td>8748</td>\n",
       "      <td>3162</td>\n",
       "    </tr>\n",
       "    <tr>\n",
       "      <th>100</th>\n",
       "      <td>French</td>\n",
       "      <td>sand</td>\n",
       "      <td>Mattea.txt</td>\n",
       "      <td>21089</td>\n",
       "      <td>6429</td>\n",
       "    </tr>\n",
       "    <tr>\n",
       "      <th>101</th>\n",
       "      <td>French</td>\n",
       "      <td>sand</td>\n",
       "      <td>Metella.txt</td>\n",
       "      <td>19600</td>\n",
       "      <td>5715</td>\n",
       "    </tr>\n",
       "    <tr>\n",
       "      <th>102</th>\n",
       "      <td>French</td>\n",
       "      <td>sand</td>\n",
       "      <td>Oeuvres illustrÇes de George Sand.txt</td>\n",
       "      <td>23210</td>\n",
       "      <td>7503</td>\n",
       "    </tr>\n",
       "  </tbody>\n",
       "</table>\n",
       "</div>"
      ],
      "text/plain": [
       "    Language         Author  \\\n",
       "71    French  de Maupassant   \n",
       "72    French  de Maupassant   \n",
       "73    French  de Maupassant   \n",
       "74    French  de Maupassant   \n",
       "75    French  de Maupassant   \n",
       "76    French  de Maupassant   \n",
       "77    French  de Maupassant   \n",
       "78    French  de Maupassant   \n",
       "79    French  de Maupassant   \n",
       "80    French        diderot   \n",
       "81    French        diderot   \n",
       "82    French        diderot   \n",
       "83    French        diderot   \n",
       "84    French        diderot   \n",
       "85    French      chevalier   \n",
       "86    French      chevalier   \n",
       "87    French      chevalier   \n",
       "88    French      chevalier   \n",
       "89    French      chevalier   \n",
       "90    French      chevalier   \n",
       "91    French      chevalier   \n",
       "92    French           sand   \n",
       "93    French           sand   \n",
       "94    French           sand   \n",
       "95    French           sand   \n",
       "96    French           sand   \n",
       "97    French           sand   \n",
       "98    French           sand   \n",
       "99    French           sand   \n",
       "100   French           sand   \n",
       "101   French           sand   \n",
       "102   French           sand   \n",
       "\n",
       "                                                 Title  Length Unique  \n",
       "71          Œuvres complètes de Guy de Maupassant.txt   54772  15028  \n",
       "72                                  La Main Gauche.txt   33481   9983  \n",
       "73                            Contes de la Becasse.txt   34723  10210  \n",
       "74                                  Claire de Lune.txt   25975   8076  \n",
       "75                                 La petite roque.txt   40688  10890  \n",
       "76                                        Le Horla.txt   41485  11091  \n",
       "77                               L'inutile beautÇ.txt   37840  10781  \n",
       "78                                   Boule de Suif.txt   35905  10725  \n",
       "79                               La Maison Tellier.txt   43685  12305  \n",
       "80                                  L'oiseau blanc.txt   21973   6337  \n",
       "81                      Les deux amis de Bourbonne.txt    8510   2929  \n",
       "82          Regrets sur ma vieille robe de chambre.txt    4980   1876  \n",
       "83                         Ceci n'est pas un conte.txt   10938   3674  \n",
       "84           Entretien d'un päre avec ses enfants.txt   11125   3720  \n",
       "85                     La fille des indiens rouges.txt   66621  17875  \n",
       "86                           Les derniers Iroquois.txt   55565  15583  \n",
       "87                                    La capitaine.txt   46306  13083  \n",
       "88                                Le chasseur noir.txt   51341  12945  \n",
       "89          L'enfer et le paradis de l'autre monde.txt   40827  10831  \n",
       "90                                 L'åle de sable.txt   73801  18989  \n",
       "91                              La fille du pirate.txt   52519  14649  \n",
       "92                              Le poâme de Myrza.txt   12771   4348  \n",
       "93   La Coupe; Lupo Liverani; Le Toast; Garnier; Le...   47831  12540  \n",
       "94                                    Le Piccinino.txt  151405  27435  \n",
       "95             Jacques le fataliste et son maåtre.txt   85756  18744  \n",
       "96                                         Pauline.txt   27486   7901  \n",
       "97                                            cora.txt   12370   4370  \n",
       "98                                     La Marquise.txt   14716   4786  \n",
       "99                                         L' Orco.txt    8748   3162  \n",
       "100                                         Mattea.txt   21089   6429  \n",
       "101                                        Metella.txt   19600   5715  \n",
       "102             Oeuvres illustrÇes de George Sand.txt   23210   7503  "
      ]
     },
     "execution_count": 46,
     "metadata": {},
     "output_type": "execute_result"
    }
   ],
   "source": [
    "stats[stats.Language == 'French']"
   ]
  },
  {
   "cell_type": "code",
   "execution_count": 47,
   "metadata": {},
   "outputs": [
    {
     "data": {
      "image/png": "[encoded data removed]",
      "text/plain": [
       "<Figure size 720x720 with 1 Axes>"
      ]
     },
     "metadata": {
      "needs_background": "light"
     },
     "output_type": "display_data"
    }
   ],
   "source": [
    "plt.figure(figsize = (10,10))\n",
    "#English\n",
    "subset = stats[stats.Language == 'English']\n",
    "plt.loglog(subset.Length, subset.Unique, 'o', label = 'English', color = 'crimson')\n",
    "#German\n",
    "subset = stats[stats.Language == 'German']\n",
    "plt.loglog(subset.Length, subset.Unique, 'o', label = 'German', color = 'orange')\n",
    "#French\n",
    "subset = stats[stats.Language == 'French']\n",
    "plt.loglog(subset.Length, subset.Unique, 'o', label = 'French', color = 'forestgreen')\n",
    "#Portuguese\n",
    "subset = stats[stats.Language == 'Portuguese']\n",
    "plt.loglog(subset.Length, subset.Unique, 'o', label = 'Portuguese', color = 'blueviolet')\n",
    "\n",
    "plt.legend();\n",
    "plt.xlabel('Book Lenght')\n",
    "plt.ylabel('Number of Unique Words')\n",
    "plt.savefig('./books/lang_plot.pdf')\n",
    "plt.show()"
   ]
  },
  {
   "cell_type": "markdown",
   "metadata": {},
   "source": [
    "#### Plotting Book Statistics: Question 1\n",
    "\n",
    "```stats``` is a Pandas dataframe as defined in Video 3.2.6. How can you access the column \"length\" in this dataframe?\n",
    "\n",
    "- ```stats->length```\n",
    "- **```stats.length```**\n",
    "- ```stats[length]```\n",
    "- **```stats[\"length\"]```**\n",
    "- ```stats[,\"length\"]```\n",
    "\n",
    "#### Plotting Book Statistics: Question 2\n",
    "\n",
    "```stats``` is a Pandas dataframe as defined in Video 3.2.6. How can you select only the rows where the language is French?\n",
    "\n",
    "- ```stats.language == \"French\"```\n",
    "- ```stats[language == \"French\"]```\n",
    "- ```stats.French```\n",
    "- **```stats[stats.language == \"French\"]```**"
   ]
  },
  {
   "cell_type": "code",
   "execution_count": null,
   "metadata": {},
   "outputs": [],
   "source": []
  }
 ],
 "metadata": {
  "kernelspec": {
   "display_name": "Python 3",
   "language": "python",
   "name": "python3"
  },
  "language_info": {
   "codemirror_mode": {
    "name": "ipython",
    "version": 3
   },
   "file_extension": ".py",
   "mimetype": "text/x-python",
   "name": "python",
   "nbconvert_exporter": "python",
   "pygments_lexer": "ipython3",
   "version": "3.8.5"
  }
 },
 "nbformat": 4,
 "nbformat_minor": 4
}
